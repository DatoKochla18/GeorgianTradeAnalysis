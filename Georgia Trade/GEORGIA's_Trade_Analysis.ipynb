{
  "nbformat": 4,
  "nbformat_minor": 0,
  "metadata": {
    "colab": {
      "provenance": []
    },
    "kernelspec": {
      "name": "python3",
      "display_name": "Python 3"
    },
    "language_info": {
      "name": "python"
    }
  },
  "cells": [
    {
      "cell_type": "code",
      "execution_count": 1,
      "metadata": {
        "colab": {
          "base_uri": "https://localhost:8080/"
        },
        "id": "xo0OpEF6sSsn",
        "outputId": "c1c2e9cf-9d69-4ba3-bf1d-482905de799a"
      },
      "outputs": [
        {
          "output_type": "stream",
          "name": "stdout",
          "text": [
            "Archive:  /content/trade.zip\n",
            "   creating: archive (10)/\n",
            "  inflating: archive (10)/georgia-trade-2023.csv  \n",
            "  inflating: archive (10)/trade_2022.csv  \n",
            "\u001b[0m\u001b[01;34m'archive (10)'\u001b[0m/   \u001b[01;34msample_data\u001b[0m/   trade.zip\n"
          ]
        }
      ],
      "source": [
        "!unzip /content/trade.zip\n",
        "%ls"
      ]
    },
    {
      "cell_type": "code",
      "source": [
        "\n",
        "import pandas as pd\n",
        "pd.options.display.float_format = '{:.2f}'.format\n",
        "\n",
        "# Load csv file\n",
        "path = \"/content/archive (10)/georgia-trade-2023.csv\"\n",
        "trade_2023 = pd.read_csv(path)"
      ],
      "metadata": {
        "id": "H3kU9YQDAHC7"
      },
      "execution_count": 2,
      "outputs": []
    },
    {
      "cell_type": "code",
      "source": [
        "trade_2023.head()\n"
      ],
      "metadata": {
        "id": "ZiMnbk6BskEC",
        "colab": {
          "base_uri": "https://localhost:8080/",
          "height": 206
        },
        "outputId": "1a9d3092-2e52-4f48-8b65-2244ef594215"
      },
      "execution_count": 3,
      "outputs": [
        {
          "output_type": "execute_result",
          "data": {
            "text/plain": [
              "   Unnamed: 0         Code    Type  Quantity  Quantity_kg      Cost    Month  \\\n",
              "0           0  70051030000  Import  22466.59    222546.67  33782.52  January   \n",
              "1           1  39219090000  Import  58782.40     58782.40 547996.80  January   \n",
              "2           2  39241000000  Import  10330.41     10330.41  33773.50  January   \n",
              "3           3  94016900000  Import     50.00        50.00     64.04  January   \n",
              "4           4  83021000009  Import   1150.84      1150.84  13265.36  January   \n",
              "\n",
              "   Year  Country  Category Name  \n",
              "0  2023     Iran      7005  NaN  \n",
              "1  2023  Türkiye      3921  NaN  \n",
              "2  2023  Türkiye      3924  NaN  \n",
              "3  2023   France      9401  NaN  \n",
              "4  2023  Germany      8302  NaN  "
            ],
            "text/html": [
              "\n",
              "  <div id=\"df-a8ad4ab5-bd25-425c-9bd6-6588a712edf0\" class=\"colab-df-container\">\n",
              "    <div>\n",
              "<style scoped>\n",
              "    .dataframe tbody tr th:only-of-type {\n",
              "        vertical-align: middle;\n",
              "    }\n",
              "\n",
              "    .dataframe tbody tr th {\n",
              "        vertical-align: top;\n",
              "    }\n",
              "\n",
              "    .dataframe thead th {\n",
              "        text-align: right;\n",
              "    }\n",
              "</style>\n",
              "<table border=\"1\" class=\"dataframe\">\n",
              "  <thead>\n",
              "    <tr style=\"text-align: right;\">\n",
              "      <th></th>\n",
              "      <th>Unnamed: 0</th>\n",
              "      <th>Code</th>\n",
              "      <th>Type</th>\n",
              "      <th>Quantity</th>\n",
              "      <th>Quantity_kg</th>\n",
              "      <th>Cost</th>\n",
              "      <th>Month</th>\n",
              "      <th>Year</th>\n",
              "      <th>Country</th>\n",
              "      <th>Category</th>\n",
              "      <th>Name</th>\n",
              "    </tr>\n",
              "  </thead>\n",
              "  <tbody>\n",
              "    <tr>\n",
              "      <th>0</th>\n",
              "      <td>0</td>\n",
              "      <td>70051030000</td>\n",
              "      <td>Import</td>\n",
              "      <td>22466.59</td>\n",
              "      <td>222546.67</td>\n",
              "      <td>33782.52</td>\n",
              "      <td>January</td>\n",
              "      <td>2023</td>\n",
              "      <td>Iran</td>\n",
              "      <td>7005</td>\n",
              "      <td>NaN</td>\n",
              "    </tr>\n",
              "    <tr>\n",
              "      <th>1</th>\n",
              "      <td>1</td>\n",
              "      <td>39219090000</td>\n",
              "      <td>Import</td>\n",
              "      <td>58782.40</td>\n",
              "      <td>58782.40</td>\n",
              "      <td>547996.80</td>\n",
              "      <td>January</td>\n",
              "      <td>2023</td>\n",
              "      <td>Türkiye</td>\n",
              "      <td>3921</td>\n",
              "      <td>NaN</td>\n",
              "    </tr>\n",
              "    <tr>\n",
              "      <th>2</th>\n",
              "      <td>2</td>\n",
              "      <td>39241000000</td>\n",
              "      <td>Import</td>\n",
              "      <td>10330.41</td>\n",
              "      <td>10330.41</td>\n",
              "      <td>33773.50</td>\n",
              "      <td>January</td>\n",
              "      <td>2023</td>\n",
              "      <td>Türkiye</td>\n",
              "      <td>3924</td>\n",
              "      <td>NaN</td>\n",
              "    </tr>\n",
              "    <tr>\n",
              "      <th>3</th>\n",
              "      <td>3</td>\n",
              "      <td>94016900000</td>\n",
              "      <td>Import</td>\n",
              "      <td>50.00</td>\n",
              "      <td>50.00</td>\n",
              "      <td>64.04</td>\n",
              "      <td>January</td>\n",
              "      <td>2023</td>\n",
              "      <td>France</td>\n",
              "      <td>9401</td>\n",
              "      <td>NaN</td>\n",
              "    </tr>\n",
              "    <tr>\n",
              "      <th>4</th>\n",
              "      <td>4</td>\n",
              "      <td>83021000009</td>\n",
              "      <td>Import</td>\n",
              "      <td>1150.84</td>\n",
              "      <td>1150.84</td>\n",
              "      <td>13265.36</td>\n",
              "      <td>January</td>\n",
              "      <td>2023</td>\n",
              "      <td>Germany</td>\n",
              "      <td>8302</td>\n",
              "      <td>NaN</td>\n",
              "    </tr>\n",
              "  </tbody>\n",
              "</table>\n",
              "</div>\n",
              "    <div class=\"colab-df-buttons\">\n",
              "\n",
              "  <div class=\"colab-df-container\">\n",
              "    <button class=\"colab-df-convert\" onclick=\"convertToInteractive('df-a8ad4ab5-bd25-425c-9bd6-6588a712edf0')\"\n",
              "            title=\"Convert this dataframe to an interactive table.\"\n",
              "            style=\"display:none;\">\n",
              "\n",
              "  <svg xmlns=\"http://www.w3.org/2000/svg\" height=\"24px\" viewBox=\"0 -960 960 960\">\n",
              "    <path d=\"M120-120v-720h720v720H120Zm60-500h600v-160H180v160Zm220 220h160v-160H400v160Zm0 220h160v-160H400v160ZM180-400h160v-160H180v160Zm440 0h160v-160H620v160ZM180-180h160v-160H180v160Zm440 0h160v-160H620v160Z\"/>\n",
              "  </svg>\n",
              "    </button>\n",
              "\n",
              "  <style>\n",
              "    .colab-df-container {\n",
              "      display:flex;\n",
              "      gap: 12px;\n",
              "    }\n",
              "\n",
              "    .colab-df-convert {\n",
              "      background-color: #E8F0FE;\n",
              "      border: none;\n",
              "      border-radius: 50%;\n",
              "      cursor: pointer;\n",
              "      display: none;\n",
              "      fill: #1967D2;\n",
              "      height: 32px;\n",
              "      padding: 0 0 0 0;\n",
              "      width: 32px;\n",
              "    }\n",
              "\n",
              "    .colab-df-convert:hover {\n",
              "      background-color: #E2EBFA;\n",
              "      box-shadow: 0px 1px 2px rgba(60, 64, 67, 0.3), 0px 1px 3px 1px rgba(60, 64, 67, 0.15);\n",
              "      fill: #174EA6;\n",
              "    }\n",
              "\n",
              "    .colab-df-buttons div {\n",
              "      margin-bottom: 4px;\n",
              "    }\n",
              "\n",
              "    [theme=dark] .colab-df-convert {\n",
              "      background-color: #3B4455;\n",
              "      fill: #D2E3FC;\n",
              "    }\n",
              "\n",
              "    [theme=dark] .colab-df-convert:hover {\n",
              "      background-color: #434B5C;\n",
              "      box-shadow: 0px 1px 3px 1px rgba(0, 0, 0, 0.15);\n",
              "      filter: drop-shadow(0px 1px 2px rgba(0, 0, 0, 0.3));\n",
              "      fill: #FFFFFF;\n",
              "    }\n",
              "  </style>\n",
              "\n",
              "    <script>\n",
              "      const buttonEl =\n",
              "        document.querySelector('#df-a8ad4ab5-bd25-425c-9bd6-6588a712edf0 button.colab-df-convert');\n",
              "      buttonEl.style.display =\n",
              "        google.colab.kernel.accessAllowed ? 'block' : 'none';\n",
              "\n",
              "      async function convertToInteractive(key) {\n",
              "        const element = document.querySelector('#df-a8ad4ab5-bd25-425c-9bd6-6588a712edf0');\n",
              "        const dataTable =\n",
              "          await google.colab.kernel.invokeFunction('convertToInteractive',\n",
              "                                                    [key], {});\n",
              "        if (!dataTable) return;\n",
              "\n",
              "        const docLinkHtml = 'Like what you see? Visit the ' +\n",
              "          '<a target=\"_blank\" href=https://colab.research.google.com/notebooks/data_table.ipynb>data table notebook</a>'\n",
              "          + ' to learn more about interactive tables.';\n",
              "        element.innerHTML = '';\n",
              "        dataTable['output_type'] = 'display_data';\n",
              "        await google.colab.output.renderOutput(dataTable, element);\n",
              "        const docLink = document.createElement('div');\n",
              "        docLink.innerHTML = docLinkHtml;\n",
              "        element.appendChild(docLink);\n",
              "      }\n",
              "    </script>\n",
              "  </div>\n",
              "\n",
              "\n",
              "<div id=\"df-c1ba8926-de9e-4ef4-af60-0d6a55648294\">\n",
              "  <button class=\"colab-df-quickchart\" onclick=\"quickchart('df-c1ba8926-de9e-4ef4-af60-0d6a55648294')\"\n",
              "            title=\"Suggest charts\"\n",
              "            style=\"display:none;\">\n",
              "\n",
              "<svg xmlns=\"http://www.w3.org/2000/svg\" height=\"24px\"viewBox=\"0 0 24 24\"\n",
              "     width=\"24px\">\n",
              "    <g>\n",
              "        <path d=\"M19 3H5c-1.1 0-2 .9-2 2v14c0 1.1.9 2 2 2h14c1.1 0 2-.9 2-2V5c0-1.1-.9-2-2-2zM9 17H7v-7h2v7zm4 0h-2V7h2v10zm4 0h-2v-4h2v4z\"/>\n",
              "    </g>\n",
              "</svg>\n",
              "  </button>\n",
              "\n",
              "<style>\n",
              "  .colab-df-quickchart {\n",
              "      --bg-color: #E8F0FE;\n",
              "      --fill-color: #1967D2;\n",
              "      --hover-bg-color: #E2EBFA;\n",
              "      --hover-fill-color: #174EA6;\n",
              "      --disabled-fill-color: #AAA;\n",
              "      --disabled-bg-color: #DDD;\n",
              "  }\n",
              "\n",
              "  [theme=dark] .colab-df-quickchart {\n",
              "      --bg-color: #3B4455;\n",
              "      --fill-color: #D2E3FC;\n",
              "      --hover-bg-color: #434B5C;\n",
              "      --hover-fill-color: #FFFFFF;\n",
              "      --disabled-bg-color: #3B4455;\n",
              "      --disabled-fill-color: #666;\n",
              "  }\n",
              "\n",
              "  .colab-df-quickchart {\n",
              "    background-color: var(--bg-color);\n",
              "    border: none;\n",
              "    border-radius: 50%;\n",
              "    cursor: pointer;\n",
              "    display: none;\n",
              "    fill: var(--fill-color);\n",
              "    height: 32px;\n",
              "    padding: 0;\n",
              "    width: 32px;\n",
              "  }\n",
              "\n",
              "  .colab-df-quickchart:hover {\n",
              "    background-color: var(--hover-bg-color);\n",
              "    box-shadow: 0 1px 2px rgba(60, 64, 67, 0.3), 0 1px 3px 1px rgba(60, 64, 67, 0.15);\n",
              "    fill: var(--button-hover-fill-color);\n",
              "  }\n",
              "\n",
              "  .colab-df-quickchart-complete:disabled,\n",
              "  .colab-df-quickchart-complete:disabled:hover {\n",
              "    background-color: var(--disabled-bg-color);\n",
              "    fill: var(--disabled-fill-color);\n",
              "    box-shadow: none;\n",
              "  }\n",
              "\n",
              "  .colab-df-spinner {\n",
              "    border: 2px solid var(--fill-color);\n",
              "    border-color: transparent;\n",
              "    border-bottom-color: var(--fill-color);\n",
              "    animation:\n",
              "      spin 1s steps(1) infinite;\n",
              "  }\n",
              "\n",
              "  @keyframes spin {\n",
              "    0% {\n",
              "      border-color: transparent;\n",
              "      border-bottom-color: var(--fill-color);\n",
              "      border-left-color: var(--fill-color);\n",
              "    }\n",
              "    20% {\n",
              "      border-color: transparent;\n",
              "      border-left-color: var(--fill-color);\n",
              "      border-top-color: var(--fill-color);\n",
              "    }\n",
              "    30% {\n",
              "      border-color: transparent;\n",
              "      border-left-color: var(--fill-color);\n",
              "      border-top-color: var(--fill-color);\n",
              "      border-right-color: var(--fill-color);\n",
              "    }\n",
              "    40% {\n",
              "      border-color: transparent;\n",
              "      border-right-color: var(--fill-color);\n",
              "      border-top-color: var(--fill-color);\n",
              "    }\n",
              "    60% {\n",
              "      border-color: transparent;\n",
              "      border-right-color: var(--fill-color);\n",
              "    }\n",
              "    80% {\n",
              "      border-color: transparent;\n",
              "      border-right-color: var(--fill-color);\n",
              "      border-bottom-color: var(--fill-color);\n",
              "    }\n",
              "    90% {\n",
              "      border-color: transparent;\n",
              "      border-bottom-color: var(--fill-color);\n",
              "    }\n",
              "  }\n",
              "</style>\n",
              "\n",
              "  <script>\n",
              "    async function quickchart(key) {\n",
              "      const quickchartButtonEl =\n",
              "        document.querySelector('#' + key + ' button');\n",
              "      quickchartButtonEl.disabled = true;  // To prevent multiple clicks.\n",
              "      quickchartButtonEl.classList.add('colab-df-spinner');\n",
              "      try {\n",
              "        const charts = await google.colab.kernel.invokeFunction(\n",
              "            'suggestCharts', [key], {});\n",
              "      } catch (error) {\n",
              "        console.error('Error during call to suggestCharts:', error);\n",
              "      }\n",
              "      quickchartButtonEl.classList.remove('colab-df-spinner');\n",
              "      quickchartButtonEl.classList.add('colab-df-quickchart-complete');\n",
              "    }\n",
              "    (() => {\n",
              "      let quickchartButtonEl =\n",
              "        document.querySelector('#df-c1ba8926-de9e-4ef4-af60-0d6a55648294 button');\n",
              "      quickchartButtonEl.style.display =\n",
              "        google.colab.kernel.accessAllowed ? 'block' : 'none';\n",
              "    })();\n",
              "  </script>\n",
              "</div>\n",
              "\n",
              "    </div>\n",
              "  </div>\n"
            ]
          },
          "metadata": {},
          "execution_count": 3
        }
      ]
    },
    {
      "cell_type": "code",
      "source": [
        "trade_2023.drop(columns=trade_2023.columns[0],inplace=True)"
      ],
      "metadata": {
        "id": "6ZTUgV9ezpRX"
      },
      "execution_count": 4,
      "outputs": []
    },
    {
      "cell_type": "code",
      "source": [
        "trade_2023.head()"
      ],
      "metadata": {
        "colab": {
          "base_uri": "https://localhost:8080/",
          "height": 206
        },
        "id": "IcPG0Etbzzy9",
        "outputId": "25b0b328-c635-4aff-a6fe-ac0d620050d4"
      },
      "execution_count": 5,
      "outputs": [
        {
          "output_type": "execute_result",
          "data": {
            "text/plain": [
              "          Code    Type  Quantity  Quantity_kg      Cost    Month  Year  \\\n",
              "0  70051030000  Import  22466.59    222546.67  33782.52  January  2023   \n",
              "1  39219090000  Import  58782.40     58782.40 547996.80  January  2023   \n",
              "2  39241000000  Import  10330.41     10330.41  33773.50  January  2023   \n",
              "3  94016900000  Import     50.00        50.00     64.04  January  2023   \n",
              "4  83021000009  Import   1150.84      1150.84  13265.36  January  2023   \n",
              "\n",
              "   Country  Category Name  \n",
              "0     Iran      7005  NaN  \n",
              "1  Türkiye      3921  NaN  \n",
              "2  Türkiye      3924  NaN  \n",
              "3   France      9401  NaN  \n",
              "4  Germany      8302  NaN  "
            ],
            "text/html": [
              "\n",
              "  <div id=\"df-c4ad8cdf-a3ee-4c01-b0c8-962cd94290ee\" class=\"colab-df-container\">\n",
              "    <div>\n",
              "<style scoped>\n",
              "    .dataframe tbody tr th:only-of-type {\n",
              "        vertical-align: middle;\n",
              "    }\n",
              "\n",
              "    .dataframe tbody tr th {\n",
              "        vertical-align: top;\n",
              "    }\n",
              "\n",
              "    .dataframe thead th {\n",
              "        text-align: right;\n",
              "    }\n",
              "</style>\n",
              "<table border=\"1\" class=\"dataframe\">\n",
              "  <thead>\n",
              "    <tr style=\"text-align: right;\">\n",
              "      <th></th>\n",
              "      <th>Code</th>\n",
              "      <th>Type</th>\n",
              "      <th>Quantity</th>\n",
              "      <th>Quantity_kg</th>\n",
              "      <th>Cost</th>\n",
              "      <th>Month</th>\n",
              "      <th>Year</th>\n",
              "      <th>Country</th>\n",
              "      <th>Category</th>\n",
              "      <th>Name</th>\n",
              "    </tr>\n",
              "  </thead>\n",
              "  <tbody>\n",
              "    <tr>\n",
              "      <th>0</th>\n",
              "      <td>70051030000</td>\n",
              "      <td>Import</td>\n",
              "      <td>22466.59</td>\n",
              "      <td>222546.67</td>\n",
              "      <td>33782.52</td>\n",
              "      <td>January</td>\n",
              "      <td>2023</td>\n",
              "      <td>Iran</td>\n",
              "      <td>7005</td>\n",
              "      <td>NaN</td>\n",
              "    </tr>\n",
              "    <tr>\n",
              "      <th>1</th>\n",
              "      <td>39219090000</td>\n",
              "      <td>Import</td>\n",
              "      <td>58782.40</td>\n",
              "      <td>58782.40</td>\n",
              "      <td>547996.80</td>\n",
              "      <td>January</td>\n",
              "      <td>2023</td>\n",
              "      <td>Türkiye</td>\n",
              "      <td>3921</td>\n",
              "      <td>NaN</td>\n",
              "    </tr>\n",
              "    <tr>\n",
              "      <th>2</th>\n",
              "      <td>39241000000</td>\n",
              "      <td>Import</td>\n",
              "      <td>10330.41</td>\n",
              "      <td>10330.41</td>\n",
              "      <td>33773.50</td>\n",
              "      <td>January</td>\n",
              "      <td>2023</td>\n",
              "      <td>Türkiye</td>\n",
              "      <td>3924</td>\n",
              "      <td>NaN</td>\n",
              "    </tr>\n",
              "    <tr>\n",
              "      <th>3</th>\n",
              "      <td>94016900000</td>\n",
              "      <td>Import</td>\n",
              "      <td>50.00</td>\n",
              "      <td>50.00</td>\n",
              "      <td>64.04</td>\n",
              "      <td>January</td>\n",
              "      <td>2023</td>\n",
              "      <td>France</td>\n",
              "      <td>9401</td>\n",
              "      <td>NaN</td>\n",
              "    </tr>\n",
              "    <tr>\n",
              "      <th>4</th>\n",
              "      <td>83021000009</td>\n",
              "      <td>Import</td>\n",
              "      <td>1150.84</td>\n",
              "      <td>1150.84</td>\n",
              "      <td>13265.36</td>\n",
              "      <td>January</td>\n",
              "      <td>2023</td>\n",
              "      <td>Germany</td>\n",
              "      <td>8302</td>\n",
              "      <td>NaN</td>\n",
              "    </tr>\n",
              "  </tbody>\n",
              "</table>\n",
              "</div>\n",
              "    <div class=\"colab-df-buttons\">\n",
              "\n",
              "  <div class=\"colab-df-container\">\n",
              "    <button class=\"colab-df-convert\" onclick=\"convertToInteractive('df-c4ad8cdf-a3ee-4c01-b0c8-962cd94290ee')\"\n",
              "            title=\"Convert this dataframe to an interactive table.\"\n",
              "            style=\"display:none;\">\n",
              "\n",
              "  <svg xmlns=\"http://www.w3.org/2000/svg\" height=\"24px\" viewBox=\"0 -960 960 960\">\n",
              "    <path d=\"M120-120v-720h720v720H120Zm60-500h600v-160H180v160Zm220 220h160v-160H400v160Zm0 220h160v-160H400v160ZM180-400h160v-160H180v160Zm440 0h160v-160H620v160ZM180-180h160v-160H180v160Zm440 0h160v-160H620v160Z\"/>\n",
              "  </svg>\n",
              "    </button>\n",
              "\n",
              "  <style>\n",
              "    .colab-df-container {\n",
              "      display:flex;\n",
              "      gap: 12px;\n",
              "    }\n",
              "\n",
              "    .colab-df-convert {\n",
              "      background-color: #E8F0FE;\n",
              "      border: none;\n",
              "      border-radius: 50%;\n",
              "      cursor: pointer;\n",
              "      display: none;\n",
              "      fill: #1967D2;\n",
              "      height: 32px;\n",
              "      padding: 0 0 0 0;\n",
              "      width: 32px;\n",
              "    }\n",
              "\n",
              "    .colab-df-convert:hover {\n",
              "      background-color: #E2EBFA;\n",
              "      box-shadow: 0px 1px 2px rgba(60, 64, 67, 0.3), 0px 1px 3px 1px rgba(60, 64, 67, 0.15);\n",
              "      fill: #174EA6;\n",
              "    }\n",
              "\n",
              "    .colab-df-buttons div {\n",
              "      margin-bottom: 4px;\n",
              "    }\n",
              "\n",
              "    [theme=dark] .colab-df-convert {\n",
              "      background-color: #3B4455;\n",
              "      fill: #D2E3FC;\n",
              "    }\n",
              "\n",
              "    [theme=dark] .colab-df-convert:hover {\n",
              "      background-color: #434B5C;\n",
              "      box-shadow: 0px 1px 3px 1px rgba(0, 0, 0, 0.15);\n",
              "      filter: drop-shadow(0px 1px 2px rgba(0, 0, 0, 0.3));\n",
              "      fill: #FFFFFF;\n",
              "    }\n",
              "  </style>\n",
              "\n",
              "    <script>\n",
              "      const buttonEl =\n",
              "        document.querySelector('#df-c4ad8cdf-a3ee-4c01-b0c8-962cd94290ee button.colab-df-convert');\n",
              "      buttonEl.style.display =\n",
              "        google.colab.kernel.accessAllowed ? 'block' : 'none';\n",
              "\n",
              "      async function convertToInteractive(key) {\n",
              "        const element = document.querySelector('#df-c4ad8cdf-a3ee-4c01-b0c8-962cd94290ee');\n",
              "        const dataTable =\n",
              "          await google.colab.kernel.invokeFunction('convertToInteractive',\n",
              "                                                    [key], {});\n",
              "        if (!dataTable) return;\n",
              "\n",
              "        const docLinkHtml = 'Like what you see? Visit the ' +\n",
              "          '<a target=\"_blank\" href=https://colab.research.google.com/notebooks/data_table.ipynb>data table notebook</a>'\n",
              "          + ' to learn more about interactive tables.';\n",
              "        element.innerHTML = '';\n",
              "        dataTable['output_type'] = 'display_data';\n",
              "        await google.colab.output.renderOutput(dataTable, element);\n",
              "        const docLink = document.createElement('div');\n",
              "        docLink.innerHTML = docLinkHtml;\n",
              "        element.appendChild(docLink);\n",
              "      }\n",
              "    </script>\n",
              "  </div>\n",
              "\n",
              "\n",
              "<div id=\"df-673bba83-7f61-43a3-970c-960273af1fc8\">\n",
              "  <button class=\"colab-df-quickchart\" onclick=\"quickchart('df-673bba83-7f61-43a3-970c-960273af1fc8')\"\n",
              "            title=\"Suggest charts\"\n",
              "            style=\"display:none;\">\n",
              "\n",
              "<svg xmlns=\"http://www.w3.org/2000/svg\" height=\"24px\"viewBox=\"0 0 24 24\"\n",
              "     width=\"24px\">\n",
              "    <g>\n",
              "        <path d=\"M19 3H5c-1.1 0-2 .9-2 2v14c0 1.1.9 2 2 2h14c1.1 0 2-.9 2-2V5c0-1.1-.9-2-2-2zM9 17H7v-7h2v7zm4 0h-2V7h2v10zm4 0h-2v-4h2v4z\"/>\n",
              "    </g>\n",
              "</svg>\n",
              "  </button>\n",
              "\n",
              "<style>\n",
              "  .colab-df-quickchart {\n",
              "      --bg-color: #E8F0FE;\n",
              "      --fill-color: #1967D2;\n",
              "      --hover-bg-color: #E2EBFA;\n",
              "      --hover-fill-color: #174EA6;\n",
              "      --disabled-fill-color: #AAA;\n",
              "      --disabled-bg-color: #DDD;\n",
              "  }\n",
              "\n",
              "  [theme=dark] .colab-df-quickchart {\n",
              "      --bg-color: #3B4455;\n",
              "      --fill-color: #D2E3FC;\n",
              "      --hover-bg-color: #434B5C;\n",
              "      --hover-fill-color: #FFFFFF;\n",
              "      --disabled-bg-color: #3B4455;\n",
              "      --disabled-fill-color: #666;\n",
              "  }\n",
              "\n",
              "  .colab-df-quickchart {\n",
              "    background-color: var(--bg-color);\n",
              "    border: none;\n",
              "    border-radius: 50%;\n",
              "    cursor: pointer;\n",
              "    display: none;\n",
              "    fill: var(--fill-color);\n",
              "    height: 32px;\n",
              "    padding: 0;\n",
              "    width: 32px;\n",
              "  }\n",
              "\n",
              "  .colab-df-quickchart:hover {\n",
              "    background-color: var(--hover-bg-color);\n",
              "    box-shadow: 0 1px 2px rgba(60, 64, 67, 0.3), 0 1px 3px 1px rgba(60, 64, 67, 0.15);\n",
              "    fill: var(--button-hover-fill-color);\n",
              "  }\n",
              "\n",
              "  .colab-df-quickchart-complete:disabled,\n",
              "  .colab-df-quickchart-complete:disabled:hover {\n",
              "    background-color: var(--disabled-bg-color);\n",
              "    fill: var(--disabled-fill-color);\n",
              "    box-shadow: none;\n",
              "  }\n",
              "\n",
              "  .colab-df-spinner {\n",
              "    border: 2px solid var(--fill-color);\n",
              "    border-color: transparent;\n",
              "    border-bottom-color: var(--fill-color);\n",
              "    animation:\n",
              "      spin 1s steps(1) infinite;\n",
              "  }\n",
              "\n",
              "  @keyframes spin {\n",
              "    0% {\n",
              "      border-color: transparent;\n",
              "      border-bottom-color: var(--fill-color);\n",
              "      border-left-color: var(--fill-color);\n",
              "    }\n",
              "    20% {\n",
              "      border-color: transparent;\n",
              "      border-left-color: var(--fill-color);\n",
              "      border-top-color: var(--fill-color);\n",
              "    }\n",
              "    30% {\n",
              "      border-color: transparent;\n",
              "      border-left-color: var(--fill-color);\n",
              "      border-top-color: var(--fill-color);\n",
              "      border-right-color: var(--fill-color);\n",
              "    }\n",
              "    40% {\n",
              "      border-color: transparent;\n",
              "      border-right-color: var(--fill-color);\n",
              "      border-top-color: var(--fill-color);\n",
              "    }\n",
              "    60% {\n",
              "      border-color: transparent;\n",
              "      border-right-color: var(--fill-color);\n",
              "    }\n",
              "    80% {\n",
              "      border-color: transparent;\n",
              "      border-right-color: var(--fill-color);\n",
              "      border-bottom-color: var(--fill-color);\n",
              "    }\n",
              "    90% {\n",
              "      border-color: transparent;\n",
              "      border-bottom-color: var(--fill-color);\n",
              "    }\n",
              "  }\n",
              "</style>\n",
              "\n",
              "  <script>\n",
              "    async function quickchart(key) {\n",
              "      const quickchartButtonEl =\n",
              "        document.querySelector('#' + key + ' button');\n",
              "      quickchartButtonEl.disabled = true;  // To prevent multiple clicks.\n",
              "      quickchartButtonEl.classList.add('colab-df-spinner');\n",
              "      try {\n",
              "        const charts = await google.colab.kernel.invokeFunction(\n",
              "            'suggestCharts', [key], {});\n",
              "      } catch (error) {\n",
              "        console.error('Error during call to suggestCharts:', error);\n",
              "      }\n",
              "      quickchartButtonEl.classList.remove('colab-df-spinner');\n",
              "      quickchartButtonEl.classList.add('colab-df-quickchart-complete');\n",
              "    }\n",
              "    (() => {\n",
              "      let quickchartButtonEl =\n",
              "        document.querySelector('#df-673bba83-7f61-43a3-970c-960273af1fc8 button');\n",
              "      quickchartButtonEl.style.display =\n",
              "        google.colab.kernel.accessAllowed ? 'block' : 'none';\n",
              "    })();\n",
              "  </script>\n",
              "</div>\n",
              "\n",
              "    </div>\n",
              "  </div>\n"
            ]
          },
          "metadata": {},
          "execution_count": 5
        }
      ]
    },
    {
      "cell_type": "code",
      "source": [
        "trade_2023.describe().astype(int)"
      ],
      "metadata": {
        "colab": {
          "base_uri": "https://localhost:8080/",
          "height": 300
        },
        "id": "UK1AS1bJzllB",
        "outputId": "73c1421d-d9cf-4b46-d00f-92642e11b6e3"
      },
      "execution_count": 6,
      "outputs": [
        {
          "output_type": "execute_result",
          "data": {
            "text/plain": [
              "              Code  Quantity  Quantity_kg      Cost    Year  Category\n",
              "count       405756    405756       405756    405756  405756    405756\n",
              "mean   60976362644     23521        30121     31507    2023      6097\n",
              "std    26334556078    452395      1229843    387456       0      2633\n",
              "min     1012100000        -2           -2         0    2023       101\n",
              "25%    39219090000         8            9       268    2023      3921\n",
              "50%    64039113000        79           89      1598    2023      6403\n",
              "75%    84813091000       923         1058      9730    2023      8481\n",
              "max    99050000002  54376660    315789201  67131806    2023      9905"
            ],
            "text/html": [
              "\n",
              "  <div id=\"df-95b25b33-b7c2-4c98-ad1b-e73e45e46a24\" class=\"colab-df-container\">\n",
              "    <div>\n",
              "<style scoped>\n",
              "    .dataframe tbody tr th:only-of-type {\n",
              "        vertical-align: middle;\n",
              "    }\n",
              "\n",
              "    .dataframe tbody tr th {\n",
              "        vertical-align: top;\n",
              "    }\n",
              "\n",
              "    .dataframe thead th {\n",
              "        text-align: right;\n",
              "    }\n",
              "</style>\n",
              "<table border=\"1\" class=\"dataframe\">\n",
              "  <thead>\n",
              "    <tr style=\"text-align: right;\">\n",
              "      <th></th>\n",
              "      <th>Code</th>\n",
              "      <th>Quantity</th>\n",
              "      <th>Quantity_kg</th>\n",
              "      <th>Cost</th>\n",
              "      <th>Year</th>\n",
              "      <th>Category</th>\n",
              "    </tr>\n",
              "  </thead>\n",
              "  <tbody>\n",
              "    <tr>\n",
              "      <th>count</th>\n",
              "      <td>405756</td>\n",
              "      <td>405756</td>\n",
              "      <td>405756</td>\n",
              "      <td>405756</td>\n",
              "      <td>405756</td>\n",
              "      <td>405756</td>\n",
              "    </tr>\n",
              "    <tr>\n",
              "      <th>mean</th>\n",
              "      <td>60976362644</td>\n",
              "      <td>23521</td>\n",
              "      <td>30121</td>\n",
              "      <td>31507</td>\n",
              "      <td>2023</td>\n",
              "      <td>6097</td>\n",
              "    </tr>\n",
              "    <tr>\n",
              "      <th>std</th>\n",
              "      <td>26334556078</td>\n",
              "      <td>452395</td>\n",
              "      <td>1229843</td>\n",
              "      <td>387456</td>\n",
              "      <td>0</td>\n",
              "      <td>2633</td>\n",
              "    </tr>\n",
              "    <tr>\n",
              "      <th>min</th>\n",
              "      <td>1012100000</td>\n",
              "      <td>-2</td>\n",
              "      <td>-2</td>\n",
              "      <td>0</td>\n",
              "      <td>2023</td>\n",
              "      <td>101</td>\n",
              "    </tr>\n",
              "    <tr>\n",
              "      <th>25%</th>\n",
              "      <td>39219090000</td>\n",
              "      <td>8</td>\n",
              "      <td>9</td>\n",
              "      <td>268</td>\n",
              "      <td>2023</td>\n",
              "      <td>3921</td>\n",
              "    </tr>\n",
              "    <tr>\n",
              "      <th>50%</th>\n",
              "      <td>64039113000</td>\n",
              "      <td>79</td>\n",
              "      <td>89</td>\n",
              "      <td>1598</td>\n",
              "      <td>2023</td>\n",
              "      <td>6403</td>\n",
              "    </tr>\n",
              "    <tr>\n",
              "      <th>75%</th>\n",
              "      <td>84813091000</td>\n",
              "      <td>923</td>\n",
              "      <td>1058</td>\n",
              "      <td>9730</td>\n",
              "      <td>2023</td>\n",
              "      <td>8481</td>\n",
              "    </tr>\n",
              "    <tr>\n",
              "      <th>max</th>\n",
              "      <td>99050000002</td>\n",
              "      <td>54376660</td>\n",
              "      <td>315789201</td>\n",
              "      <td>67131806</td>\n",
              "      <td>2023</td>\n",
              "      <td>9905</td>\n",
              "    </tr>\n",
              "  </tbody>\n",
              "</table>\n",
              "</div>\n",
              "    <div class=\"colab-df-buttons\">\n",
              "\n",
              "  <div class=\"colab-df-container\">\n",
              "    <button class=\"colab-df-convert\" onclick=\"convertToInteractive('df-95b25b33-b7c2-4c98-ad1b-e73e45e46a24')\"\n",
              "            title=\"Convert this dataframe to an interactive table.\"\n",
              "            style=\"display:none;\">\n",
              "\n",
              "  <svg xmlns=\"http://www.w3.org/2000/svg\" height=\"24px\" viewBox=\"0 -960 960 960\">\n",
              "    <path d=\"M120-120v-720h720v720H120Zm60-500h600v-160H180v160Zm220 220h160v-160H400v160Zm0 220h160v-160H400v160ZM180-400h160v-160H180v160Zm440 0h160v-160H620v160ZM180-180h160v-160H180v160Zm440 0h160v-160H620v160Z\"/>\n",
              "  </svg>\n",
              "    </button>\n",
              "\n",
              "  <style>\n",
              "    .colab-df-container {\n",
              "      display:flex;\n",
              "      gap: 12px;\n",
              "    }\n",
              "\n",
              "    .colab-df-convert {\n",
              "      background-color: #E8F0FE;\n",
              "      border: none;\n",
              "      border-radius: 50%;\n",
              "      cursor: pointer;\n",
              "      display: none;\n",
              "      fill: #1967D2;\n",
              "      height: 32px;\n",
              "      padding: 0 0 0 0;\n",
              "      width: 32px;\n",
              "    }\n",
              "\n",
              "    .colab-df-convert:hover {\n",
              "      background-color: #E2EBFA;\n",
              "      box-shadow: 0px 1px 2px rgba(60, 64, 67, 0.3), 0px 1px 3px 1px rgba(60, 64, 67, 0.15);\n",
              "      fill: #174EA6;\n",
              "    }\n",
              "\n",
              "    .colab-df-buttons div {\n",
              "      margin-bottom: 4px;\n",
              "    }\n",
              "\n",
              "    [theme=dark] .colab-df-convert {\n",
              "      background-color: #3B4455;\n",
              "      fill: #D2E3FC;\n",
              "    }\n",
              "\n",
              "    [theme=dark] .colab-df-convert:hover {\n",
              "      background-color: #434B5C;\n",
              "      box-shadow: 0px 1px 3px 1px rgba(0, 0, 0, 0.15);\n",
              "      filter: drop-shadow(0px 1px 2px rgba(0, 0, 0, 0.3));\n",
              "      fill: #FFFFFF;\n",
              "    }\n",
              "  </style>\n",
              "\n",
              "    <script>\n",
              "      const buttonEl =\n",
              "        document.querySelector('#df-95b25b33-b7c2-4c98-ad1b-e73e45e46a24 button.colab-df-convert');\n",
              "      buttonEl.style.display =\n",
              "        google.colab.kernel.accessAllowed ? 'block' : 'none';\n",
              "\n",
              "      async function convertToInteractive(key) {\n",
              "        const element = document.querySelector('#df-95b25b33-b7c2-4c98-ad1b-e73e45e46a24');\n",
              "        const dataTable =\n",
              "          await google.colab.kernel.invokeFunction('convertToInteractive',\n",
              "                                                    [key], {});\n",
              "        if (!dataTable) return;\n",
              "\n",
              "        const docLinkHtml = 'Like what you see? Visit the ' +\n",
              "          '<a target=\"_blank\" href=https://colab.research.google.com/notebooks/data_table.ipynb>data table notebook</a>'\n",
              "          + ' to learn more about interactive tables.';\n",
              "        element.innerHTML = '';\n",
              "        dataTable['output_type'] = 'display_data';\n",
              "        await google.colab.output.renderOutput(dataTable, element);\n",
              "        const docLink = document.createElement('div');\n",
              "        docLink.innerHTML = docLinkHtml;\n",
              "        element.appendChild(docLink);\n",
              "      }\n",
              "    </script>\n",
              "  </div>\n",
              "\n",
              "\n",
              "<div id=\"df-989b8e0f-bbbb-4535-a832-a20cb23f8dd1\">\n",
              "  <button class=\"colab-df-quickchart\" onclick=\"quickchart('df-989b8e0f-bbbb-4535-a832-a20cb23f8dd1')\"\n",
              "            title=\"Suggest charts\"\n",
              "            style=\"display:none;\">\n",
              "\n",
              "<svg xmlns=\"http://www.w3.org/2000/svg\" height=\"24px\"viewBox=\"0 0 24 24\"\n",
              "     width=\"24px\">\n",
              "    <g>\n",
              "        <path d=\"M19 3H5c-1.1 0-2 .9-2 2v14c0 1.1.9 2 2 2h14c1.1 0 2-.9 2-2V5c0-1.1-.9-2-2-2zM9 17H7v-7h2v7zm4 0h-2V7h2v10zm4 0h-2v-4h2v4z\"/>\n",
              "    </g>\n",
              "</svg>\n",
              "  </button>\n",
              "\n",
              "<style>\n",
              "  .colab-df-quickchart {\n",
              "      --bg-color: #E8F0FE;\n",
              "      --fill-color: #1967D2;\n",
              "      --hover-bg-color: #E2EBFA;\n",
              "      --hover-fill-color: #174EA6;\n",
              "      --disabled-fill-color: #AAA;\n",
              "      --disabled-bg-color: #DDD;\n",
              "  }\n",
              "\n",
              "  [theme=dark] .colab-df-quickchart {\n",
              "      --bg-color: #3B4455;\n",
              "      --fill-color: #D2E3FC;\n",
              "      --hover-bg-color: #434B5C;\n",
              "      --hover-fill-color: #FFFFFF;\n",
              "      --disabled-bg-color: #3B4455;\n",
              "      --disabled-fill-color: #666;\n",
              "  }\n",
              "\n",
              "  .colab-df-quickchart {\n",
              "    background-color: var(--bg-color);\n",
              "    border: none;\n",
              "    border-radius: 50%;\n",
              "    cursor: pointer;\n",
              "    display: none;\n",
              "    fill: var(--fill-color);\n",
              "    height: 32px;\n",
              "    padding: 0;\n",
              "    width: 32px;\n",
              "  }\n",
              "\n",
              "  .colab-df-quickchart:hover {\n",
              "    background-color: var(--hover-bg-color);\n",
              "    box-shadow: 0 1px 2px rgba(60, 64, 67, 0.3), 0 1px 3px 1px rgba(60, 64, 67, 0.15);\n",
              "    fill: var(--button-hover-fill-color);\n",
              "  }\n",
              "\n",
              "  .colab-df-quickchart-complete:disabled,\n",
              "  .colab-df-quickchart-complete:disabled:hover {\n",
              "    background-color: var(--disabled-bg-color);\n",
              "    fill: var(--disabled-fill-color);\n",
              "    box-shadow: none;\n",
              "  }\n",
              "\n",
              "  .colab-df-spinner {\n",
              "    border: 2px solid var(--fill-color);\n",
              "    border-color: transparent;\n",
              "    border-bottom-color: var(--fill-color);\n",
              "    animation:\n",
              "      spin 1s steps(1) infinite;\n",
              "  }\n",
              "\n",
              "  @keyframes spin {\n",
              "    0% {\n",
              "      border-color: transparent;\n",
              "      border-bottom-color: var(--fill-color);\n",
              "      border-left-color: var(--fill-color);\n",
              "    }\n",
              "    20% {\n",
              "      border-color: transparent;\n",
              "      border-left-color: var(--fill-color);\n",
              "      border-top-color: var(--fill-color);\n",
              "    }\n",
              "    30% {\n",
              "      border-color: transparent;\n",
              "      border-left-color: var(--fill-color);\n",
              "      border-top-color: var(--fill-color);\n",
              "      border-right-color: var(--fill-color);\n",
              "    }\n",
              "    40% {\n",
              "      border-color: transparent;\n",
              "      border-right-color: var(--fill-color);\n",
              "      border-top-color: var(--fill-color);\n",
              "    }\n",
              "    60% {\n",
              "      border-color: transparent;\n",
              "      border-right-color: var(--fill-color);\n",
              "    }\n",
              "    80% {\n",
              "      border-color: transparent;\n",
              "      border-right-color: var(--fill-color);\n",
              "      border-bottom-color: var(--fill-color);\n",
              "    }\n",
              "    90% {\n",
              "      border-color: transparent;\n",
              "      border-bottom-color: var(--fill-color);\n",
              "    }\n",
              "  }\n",
              "</style>\n",
              "\n",
              "  <script>\n",
              "    async function quickchart(key) {\n",
              "      const quickchartButtonEl =\n",
              "        document.querySelector('#' + key + ' button');\n",
              "      quickchartButtonEl.disabled = true;  // To prevent multiple clicks.\n",
              "      quickchartButtonEl.classList.add('colab-df-spinner');\n",
              "      try {\n",
              "        const charts = await google.colab.kernel.invokeFunction(\n",
              "            'suggestCharts', [key], {});\n",
              "      } catch (error) {\n",
              "        console.error('Error during call to suggestCharts:', error);\n",
              "      }\n",
              "      quickchartButtonEl.classList.remove('colab-df-spinner');\n",
              "      quickchartButtonEl.classList.add('colab-df-quickchart-complete');\n",
              "    }\n",
              "    (() => {\n",
              "      let quickchartButtonEl =\n",
              "        document.querySelector('#df-989b8e0f-bbbb-4535-a832-a20cb23f8dd1 button');\n",
              "      quickchartButtonEl.style.display =\n",
              "        google.colab.kernel.accessAllowed ? 'block' : 'none';\n",
              "    })();\n",
              "  </script>\n",
              "</div>\n",
              "\n",
              "    </div>\n",
              "  </div>\n"
            ]
          },
          "metadata": {},
          "execution_count": 6
        }
      ]
    },
    {
      "cell_type": "code",
      "source": [
        "#renaming Quantity_kg to Weight\n",
        "trade_2023.rename(columns={'Quantity_kg':'Weight'},inplace=True)\n",
        "trade_2023.head(1)"
      ],
      "metadata": {
        "colab": {
          "base_uri": "https://localhost:8080/",
          "height": 81
        },
        "id": "ZR4TLn95lZyB",
        "outputId": "0e5fc465-3bee-4975-9811-c6ddd91d8245"
      },
      "execution_count": 7,
      "outputs": [
        {
          "output_type": "execute_result",
          "data": {
            "text/plain": [
              "          Code    Type  Quantity    Weight     Cost    Month  Year Country  \\\n",
              "0  70051030000  Import  22466.59 222546.67 33782.52  January  2023    Iran   \n",
              "\n",
              "   Category Name  \n",
              "0      7005  NaN  "
            ],
            "text/html": [
              "\n",
              "  <div id=\"df-64776437-80ff-4149-b8b3-bf737a55e3a8\" class=\"colab-df-container\">\n",
              "    <div>\n",
              "<style scoped>\n",
              "    .dataframe tbody tr th:only-of-type {\n",
              "        vertical-align: middle;\n",
              "    }\n",
              "\n",
              "    .dataframe tbody tr th {\n",
              "        vertical-align: top;\n",
              "    }\n",
              "\n",
              "    .dataframe thead th {\n",
              "        text-align: right;\n",
              "    }\n",
              "</style>\n",
              "<table border=\"1\" class=\"dataframe\">\n",
              "  <thead>\n",
              "    <tr style=\"text-align: right;\">\n",
              "      <th></th>\n",
              "      <th>Code</th>\n",
              "      <th>Type</th>\n",
              "      <th>Quantity</th>\n",
              "      <th>Weight</th>\n",
              "      <th>Cost</th>\n",
              "      <th>Month</th>\n",
              "      <th>Year</th>\n",
              "      <th>Country</th>\n",
              "      <th>Category</th>\n",
              "      <th>Name</th>\n",
              "    </tr>\n",
              "  </thead>\n",
              "  <tbody>\n",
              "    <tr>\n",
              "      <th>0</th>\n",
              "      <td>70051030000</td>\n",
              "      <td>Import</td>\n",
              "      <td>22466.59</td>\n",
              "      <td>222546.67</td>\n",
              "      <td>33782.52</td>\n",
              "      <td>January</td>\n",
              "      <td>2023</td>\n",
              "      <td>Iran</td>\n",
              "      <td>7005</td>\n",
              "      <td>NaN</td>\n",
              "    </tr>\n",
              "  </tbody>\n",
              "</table>\n",
              "</div>\n",
              "    <div class=\"colab-df-buttons\">\n",
              "\n",
              "  <div class=\"colab-df-container\">\n",
              "    <button class=\"colab-df-convert\" onclick=\"convertToInteractive('df-64776437-80ff-4149-b8b3-bf737a55e3a8')\"\n",
              "            title=\"Convert this dataframe to an interactive table.\"\n",
              "            style=\"display:none;\">\n",
              "\n",
              "  <svg xmlns=\"http://www.w3.org/2000/svg\" height=\"24px\" viewBox=\"0 -960 960 960\">\n",
              "    <path d=\"M120-120v-720h720v720H120Zm60-500h600v-160H180v160Zm220 220h160v-160H400v160Zm0 220h160v-160H400v160ZM180-400h160v-160H180v160Zm440 0h160v-160H620v160ZM180-180h160v-160H180v160Zm440 0h160v-160H620v160Z\"/>\n",
              "  </svg>\n",
              "    </button>\n",
              "\n",
              "  <style>\n",
              "    .colab-df-container {\n",
              "      display:flex;\n",
              "      gap: 12px;\n",
              "    }\n",
              "\n",
              "    .colab-df-convert {\n",
              "      background-color: #E8F0FE;\n",
              "      border: none;\n",
              "      border-radius: 50%;\n",
              "      cursor: pointer;\n",
              "      display: none;\n",
              "      fill: #1967D2;\n",
              "      height: 32px;\n",
              "      padding: 0 0 0 0;\n",
              "      width: 32px;\n",
              "    }\n",
              "\n",
              "    .colab-df-convert:hover {\n",
              "      background-color: #E2EBFA;\n",
              "      box-shadow: 0px 1px 2px rgba(60, 64, 67, 0.3), 0px 1px 3px 1px rgba(60, 64, 67, 0.15);\n",
              "      fill: #174EA6;\n",
              "    }\n",
              "\n",
              "    .colab-df-buttons div {\n",
              "      margin-bottom: 4px;\n",
              "    }\n",
              "\n",
              "    [theme=dark] .colab-df-convert {\n",
              "      background-color: #3B4455;\n",
              "      fill: #D2E3FC;\n",
              "    }\n",
              "\n",
              "    [theme=dark] .colab-df-convert:hover {\n",
              "      background-color: #434B5C;\n",
              "      box-shadow: 0px 1px 3px 1px rgba(0, 0, 0, 0.15);\n",
              "      filter: drop-shadow(0px 1px 2px rgba(0, 0, 0, 0.3));\n",
              "      fill: #FFFFFF;\n",
              "    }\n",
              "  </style>\n",
              "\n",
              "    <script>\n",
              "      const buttonEl =\n",
              "        document.querySelector('#df-64776437-80ff-4149-b8b3-bf737a55e3a8 button.colab-df-convert');\n",
              "      buttonEl.style.display =\n",
              "        google.colab.kernel.accessAllowed ? 'block' : 'none';\n",
              "\n",
              "      async function convertToInteractive(key) {\n",
              "        const element = document.querySelector('#df-64776437-80ff-4149-b8b3-bf737a55e3a8');\n",
              "        const dataTable =\n",
              "          await google.colab.kernel.invokeFunction('convertToInteractive',\n",
              "                                                    [key], {});\n",
              "        if (!dataTable) return;\n",
              "\n",
              "        const docLinkHtml = 'Like what you see? Visit the ' +\n",
              "          '<a target=\"_blank\" href=https://colab.research.google.com/notebooks/data_table.ipynb>data table notebook</a>'\n",
              "          + ' to learn more about interactive tables.';\n",
              "        element.innerHTML = '';\n",
              "        dataTable['output_type'] = 'display_data';\n",
              "        await google.colab.output.renderOutput(dataTable, element);\n",
              "        const docLink = document.createElement('div');\n",
              "        docLink.innerHTML = docLinkHtml;\n",
              "        element.appendChild(docLink);\n",
              "      }\n",
              "    </script>\n",
              "  </div>\n",
              "\n",
              "\n",
              "    </div>\n",
              "  </div>\n"
            ]
          },
          "metadata": {},
          "execution_count": 7
        }
      ]
    },
    {
      "cell_type": "code",
      "source": [
        "trade_2023.drop(trade_2023[(trade_2023['Weight']<=0)|(trade_2023['Cost']<=0)|(trade_2023['Quantity']<=0)].index,axis=0,inplace=True)"
      ],
      "metadata": {
        "id": "2--n9OQDk-Og"
      },
      "execution_count": 8,
      "outputs": []
    },
    {
      "cell_type": "code",
      "source": [
        "trade_2023.info()"
      ],
      "metadata": {
        "colab": {
          "base_uri": "https://localhost:8080/"
        },
        "id": "BEGEpHlG61_6",
        "outputId": "ca69563f-3518-4b8d-99e4-de609bceb4d6"
      },
      "execution_count": 9,
      "outputs": [
        {
          "output_type": "stream",
          "name": "stdout",
          "text": [
            "<class 'pandas.core.frame.DataFrame'>\n",
            "Int64Index: 405621 entries, 0 to 405755\n",
            "Data columns (total 10 columns):\n",
            " #   Column    Non-Null Count   Dtype  \n",
            "---  ------    --------------   -----  \n",
            " 0   Code      405621 non-null  int64  \n",
            " 1   Type      405621 non-null  object \n",
            " 2   Quantity  405621 non-null  float64\n",
            " 3   Weight    405621 non-null  float64\n",
            " 4   Cost      405621 non-null  float64\n",
            " 5   Month     405621 non-null  object \n",
            " 6   Year      405621 non-null  int64  \n",
            " 7   Country   405621 non-null  object \n",
            " 8   Category  405621 non-null  int64  \n",
            " 9   Name      75361 non-null   object \n",
            "dtypes: float64(3), int64(3), object(4)\n",
            "memory usage: 34.0+ MB\n"
          ]
        }
      ]
    },
    {
      "cell_type": "code",
      "source": [
        "trade_2023.isnull().sum()"
      ],
      "metadata": {
        "colab": {
          "base_uri": "https://localhost:8080/"
        },
        "id": "5-i4NDiZ0XE3",
        "outputId": "4cc37e69-7deb-4d95-98b9-2a5f051afca4"
      },
      "execution_count": 10,
      "outputs": [
        {
          "output_type": "execute_result",
          "data": {
            "text/plain": [
              "Code             0\n",
              "Type             0\n",
              "Quantity         0\n",
              "Weight           0\n",
              "Cost             0\n",
              "Month            0\n",
              "Year             0\n",
              "Country          0\n",
              "Category         0\n",
              "Name        330260\n",
              "dtype: int64"
            ]
          },
          "metadata": {},
          "execution_count": 10
        }
      ]
    },
    {
      "cell_type": "code",
      "source": [
        "#belowe 2 code concludes that there are no Category which have both Nan value and something\n",
        "print(trade_2023.drop_duplicates(subset=['Category','Name']).shape[0],\n",
        "trade_2023.Category.value_counts().shape[0])"
      ],
      "metadata": {
        "colab": {
          "base_uri": "https://localhost:8080/"
        },
        "id": "NgIEvAa6157D",
        "outputId": "f5473f2c-528b-47d3-d979-37c53e338703"
      },
      "execution_count": 11,
      "outputs": [
        {
          "output_type": "stream",
          "name": "stdout",
          "text": [
            "1147 1147\n"
          ]
        }
      ]
    },
    {
      "cell_type": "code",
      "source": [
        "#trade_2023.Name.fillna('Not Identified',inplace=True)\n",
        "trade_2023.Name.value_counts()"
      ],
      "metadata": {
        "colab": {
          "base_uri": "https://localhost:8080/"
        },
        "id": "jn1rLP3u4lsw",
        "outputId": "33b07cff-e866-4fd3-ab13-f09ecc4f9d67"
      },
      "execution_count": 12,
      "outputs": [
        {
          "output_type": "execute_result",
          "data": {
            "text/plain": [
              "Parts and accessories of the motor vehicles                                            7654\n",
              "Wine                                                                                   5538\n",
              "furniture and parts                                                                    5036\n",
              "Lamps and lighting fittings including searchlights and spotlights and parts thereof    3340\n",
              "Bread, pastry, cakes, biscuits and other bakers' wares                                 2936\n",
              "                                                                                       ... \n",
              "Iron and non-alloy steel in ingots or other primary forms                                28\n",
              "Copper ores and concentrates                                                             26\n",
              "Other floating structures (rafts, tanks, coffer-dams, etc.)                              22\n",
              "Fats and oils and their fractions, of fish or marine mammals                             22\n",
              "Precious-metal ores and concentrates                                                     14\n",
              "Name: Name, Length: 77, dtype: int64"
            ]
          },
          "metadata": {},
          "execution_count": 12
        }
      ]
    },
    {
      "cell_type": "code",
      "source": [
        "impt= trade_2023.loc[trade_2023['Type']=='Import','Cost'].sum()\n",
        "expt= trade_2023.loc[trade_2023['Type']=='Export','Cost'].sum()\n",
        "\n",
        "expt-impt\n",
        "#this shows that Georgia is heavily depended on other countries and does not have stable economy"
      ],
      "metadata": {
        "colab": {
          "base_uri": "https://localhost:8080/"
        },
        "id": "Z3hVrMzP5Eka",
        "outputId": "7a52b9df-0bf6-4ea3-f815-0bad3d9e43f4"
      },
      "execution_count": 13,
      "outputs": [
        {
          "output_type": "execute_result",
          "data": {
            "text/plain": [
              "-7238883916.660412"
            ]
          },
          "metadata": {},
          "execution_count": 13
        }
      ]
    },
    {
      "cell_type": "code",
      "source": [
        "import matplotlib.pyplot as plt\n",
        "\n",
        "fig,ax= plt.subplots()\n",
        "print(type(ax))\n",
        "\n",
        "ax.bar(trade_2023['Type'].unique(),trade_2023.groupby('Type')['Cost'].sum())\n",
        "ax.get_yaxis().set_major_formatter(\n",
        "    matplotlib.ticker.FuncFormatter(lambda x,p: format(int(x)//1000000, ',')))\n",
        "\n",
        "\n"
      ],
      "metadata": {
        "colab": {
          "base_uri": "https://localhost:8080/",
          "height": 448
        },
        "id": "pr_0w_sD_kU0",
        "outputId": "5182d60b-a279-4354-8ad2-f3483a90e008"
      },
      "execution_count": 38,
      "outputs": [
        {
          "output_type": "stream",
          "name": "stdout",
          "text": [
            "<class 'matplotlib.axes._axes.Axes'>\n"
          ]
        },
        {
          "output_type": "display_data",
          "data": {
            "text/plain": [
              "<Figure size 640x480 with 1 Axes>"
            ],
            "image/png": "[encoded data removed]"
          },
          "metadata": {}
        }
      ]
    },
    {
      "cell_type": "code",
      "source": [
        "trade_2023['Name'].unique()"
      ],
      "metadata": {
        "colab": {
          "base_uri": "https://localhost:8080/"
        },
        "id": "p6v1oCoMubT2",
        "outputId": "792c9539-9617-4ac6-b869-19ec97be02e3"
      },
      "execution_count": 45,
      "outputs": [
        {
          "output_type": "execute_result",
          "data": {
            "text/plain": [
              "array([nan, 'Fruit juices', 'Petroleum oils',\n",
              "       'Parts and accessories of the motor vehicles',\n",
              "       'Insulated  wire, cable ( coaxial cable and others)\\xa0',\n",
              "       'Lamps and lighting fittings including searchlights and spotlights and parts thereof',\n",
              "       \"Men's or boys' cloths\", 'furniture and parts',\n",
              "       'Ginger, saffron, turmeric and other spices',\n",
              "       'Other live plants (including their roots), cuttings and slips; mushroom spawn',\n",
              "       'Polyacetals, other polyethers and epoxide resins',\n",
              "       \"Bread, pastry, cakes, biscuits and other bakers' wares\",\n",
              "       'Beauty/make-up/skincare preparations',\n",
              "       'Sunflower-seed, safflower or cotton-seed oil\\xa0',\n",
              "       'Automatic data-processing machines',\n",
              "       'Margarine; edible mixtures or preparations of animal or vegetable fats',\n",
              "       'Footwear with outer soles of rubber, plastics, leather, etc.',\n",
              "       'T-shirts (knitted/crocheted)', 'Monitors and projectors',\n",
              "       'Chocolate and other food preparations containing cocoa',\n",
              "       'Instruments and appliances used in medical, surgical, dental or veterinary sciences',\n",
              "       'Refrigerators, freezers and other refrigerating',\n",
              "       'Undenatured ethyl alcohol',\n",
              "       'Self-propelled bulldozers, excavators',\n",
              "       'Butter and other fats and oils derived from milk; dairy spreads',\n",
              "       'Medicaments', 'Organic surface-active agents',\n",
              "       'Semi-finished products of iron or non-alloy steel',\n",
              "       'Mineral Waters', 'Meat and edible offal',\n",
              "       'Structures and parts of structures',\n",
              "       'New pneumatic tyres, of rubber', 'Wine', 'Coal; briquettes, etc.',\n",
              "       'Air-conditioning machines, comprising a motor-driven fan, etc.',\n",
              "       'Articles of plaster or of compositions based on plaster',\n",
              "       'Ceramic flags and paving, hearth or wall tiles',\n",
              "       'Angles, shapes and sections of iron or non-alloy steel',\n",
              "       'Telephone sets and others', 'Perfumes and toilet waters',\n",
              "       'Video game consoles and machines, etc.',\n",
              "       'Carboys, bottles, flasks, jars, pots, phials, ampoules and other containers',\n",
              "       'Flat-rolled products of iron or non-alloy steel',\n",
              "       'Other tubes, pipes and hollow profiles (open seam or welded,etc.)',\n",
              "       'Petroleum gases and other gaseous hydrocarbons',\n",
              "       'Gypsum; anhydrite; plasters',\n",
              "       'Polymers of ethylene, in primary forms', 'Nuts',\n",
              "       \"Men's or boys' shirts\", 'Waters (natural or artificial)',\n",
              "       'Parts of goods of heading 8801 or 8802', 'Wheat and meslin',\n",
              "       'Coke and semi-coke of coal, of lignite or of peat',\n",
              "       'Other bars and rods of iron or non-alloy steel', 'Ferro-alloys',\n",
              "       'Special purpose motor vehicles',\n",
              "       'Portland cement, aluminous cement',\n",
              "       'Mixtures of odoriferous substances and mixtures',\n",
              "       'Sacks and bags, of a kind used for the packing of goods',\n",
              "       'Cigars, cheroots, etc.', 'Central heating boilers',\n",
              "       'Mineral or chemical fertilisers, nitrogenous',\n",
              "       'Wheat or meslin flour', 'Electrical energy',\n",
              "       'Other aircraft; spacecraft',\n",
              "       'Cane or beet sugar and chemically pure sucrose, in solid form',\n",
              "       'Flours, meals and pellets', 'Live bovine animals',\n",
              "       'Manganese ores and concentrates',\n",
              "       'Iron and non-alloy steel in ingots or other primary forms',\n",
              "       'Other floating structures (rafts, tanks, coffer-dams, etc.)',\n",
              "       'Fats and oils and their fractions, of fish or marine mammals',\n",
              "       'Copper ores and concentrates', 'Manganese oxides',\n",
              "       'Live sheep and goats', 'Precious-metal ores and concentrates',\n",
              "       'Gold', 'Copper waste and scrap'], dtype=object)"
            ]
          },
          "metadata": {},
          "execution_count": 45
        }
      ]
    },
    {
      "cell_type": "code",
      "source": [
        "fig,ax= plt.subplots()\n",
        "print(type(ax))\n",
        "\n",
        "\n",
        "\n",
        "Name = trade_2023.groupby('Name')['Cost'].sum()\n",
        "Name.sort_values(ascending=False).head().sort_values().plot.barh(ax=ax)\n",
        "ax.get_xaxis().set_major_formatter(\n",
        "    matplotlib.ticker.FuncFormatter(lambda x,p: format(int(x)//1000000, ',')))"
      ],
      "metadata": {
        "colab": {
          "base_uri": "https://localhost:8080/",
          "height": 448
        },
        "id": "lWp4vyAb6mp2",
        "outputId": "4090dc1c-df3a-4228-c6fd-6b30cd6a4362"
      },
      "execution_count": 47,
      "outputs": [
        {
          "output_type": "stream",
          "name": "stdout",
          "text": [
            "<class 'matplotlib.axes._axes.Axes'>\n"
          ]
        },
        {
          "output_type": "display_data",
          "data": {
            "text/plain": [
              "<Figure size 640x480 with 1 Axes>"
            ],
            "image/png": "[encoded data removed]"
          },
          "metadata": {}
        }
      ]
    },
    {
      "cell_type": "code",
      "source": [
        "trade_2023.Month.value_counts()"
      ],
      "metadata": {
        "colab": {
          "base_uri": "https://localhost:8080/"
        },
        "id": "fZwnnQOhj2od",
        "outputId": "497d4afe-3896-420c-9aa5-29a0434bad81"
      },
      "execution_count": 16,
      "outputs": [
        {
          "output_type": "execute_result",
          "data": {
            "text/plain": [
              "October      39546\n",
              "August       39347\n",
              "November     38859\n",
              "June         38809\n",
              "September    38206\n",
              "March        37969\n",
              "May          37610\n",
              "April        36991\n",
              "July         36877\n",
              "February     31919\n",
              "January      29488\n",
              "Name: Month, dtype: int64"
            ]
          },
          "metadata": {},
          "execution_count": 16
        }
      ]
    },
    {
      "cell_type": "code",
      "source": [
        "grouped=trade_2023.groupby(['Month','Type'])['Cost'].sum()\n",
        "for n,i in enumerate(grouped.items()):\n",
        "  if i[0][1]=='Export':\n",
        "    i=list(i)\n",
        "    i[1]=-i[1]\n",
        "    grouped[n]=i[1]\n",
        "s =grouped.groupby('Month').sum()\n",
        "s.index= pd.to_datetime(s.index+'-2023')\n",
        "s=s.sort_index()\n",
        "s.index= s.index.month_name()\n"
      ],
      "metadata": {
        "id": "81mye8da7_lj"
      },
      "execution_count": 17,
      "outputs": []
    },
    {
      "cell_type": "code",
      "source": [
        "x = [month for month, b in s.items()]\n"
      ],
      "metadata": {
        "id": "SDjtAWNVelci"
      },
      "execution_count": 18,
      "outputs": []
    },
    {
      "cell_type": "code",
      "source": [
        "import matplotlib\n",
        "fig,ax=plt.subplots()\n",
        "\n",
        "ax.plot(x,s)\n",
        "ax.get_yaxis().set_major_formatter(\n",
        "    matplotlib.ticker.FuncFormatter(lambda x,p: format(int(x)//1000000, ',')))\n",
        "plt.xticks(x, rotation='vertical', size=16)\n",
        "plt.ylabel('Cost in Millions')\n",
        "plt.show()"
      ],
      "metadata": {
        "colab": {
          "base_uri": "https://localhost:8080/",
          "height": 539
        },
        "id": "uhIE17SifBkn",
        "outputId": "100722fb-29b6-44a6-e019-bfca918438da"
      },
      "execution_count": 19,
      "outputs": [
        {
          "output_type": "display_data",
          "data": {
            "text/plain": [
              "<Figure size 640x480 with 1 Axes>"
            ],
            "image/png": "[encoded data removed]"
          },
          "metadata": {}
        }
      ]
    },
    {
      "cell_type": "code",
      "source": [
        "#top 3 countries on which georgia's is depended the most?\n",
        "trade_2023[trade_2023['Type']=='Import']\\\n",
        ".groupby('Country')['Cost'].sum()\\\n",
        ".sort_values(ascending=False).\\\n",
        "head(3).\\\n",
        "plot.pie( autopct='%1.1f%%')\n"
      ],
      "metadata": {
        "id": "z2X2q183w8Qd",
        "colab": {
          "base_uri": "https://localhost:8080/",
          "height": 424
        },
        "outputId": "c8648778-1d4d-47c3-8fbe-df170cc8e353"
      },
      "execution_count": 20,
      "outputs": [
        {
          "output_type": "execute_result",
          "data": {
            "text/plain": [
              "<Axes: ylabel='Cost'>"
            ]
          },
          "metadata": {},
          "execution_count": 20
        },
        {
          "output_type": "display_data",
          "data": {
            "text/plain": [
              "<Figure size 640x480 with 1 Axes>"
            ],
            "image/png": "[encoded data removed]"
          },
          "metadata": {}
        }
      ]
    },
    {
      "cell_type": "code",
      "source": [
        "\n",
        "fig, ax = plt.subplots()\n",
        "\n",
        "trade_2023[(trade_2023['Name']=='Wine')& (trade_2023['Type']=='Export')]\\\n",
        ".groupby('Country')[['Weight','Quantity']].sum()\\\n",
        ".sort_values(by='Weight',ascending=False).head().sort_values(by='Weight').plot.barh(ax=ax)\n",
        "\n",
        "ax.get_xaxis().set_major_formatter(\n",
        "    matplotlib.ticker.FuncFormatter(lambda x,p: format(int(x)//1000000, ',')))\n",
        "\n",
        "ax.set_xlabel('In Millions')\n",
        "plt.show()"
      ],
      "metadata": {
        "colab": {
          "base_uri": "https://localhost:8080/",
          "height": 449
        },
        "id": "Xx-h_lvAvTkN",
        "outputId": "ff2aeb2f-ca29-46dd-b244-f4c60db4d621"
      },
      "execution_count": 21,
      "outputs": [
        {
          "output_type": "display_data",
          "data": {
            "text/plain": [
              "<Figure size 640x480 with 1 Axes>"
            ],
            "image/png": "[encoded data removed]"
          },
          "metadata": {}
        }
      ]
    },
    {
      "cell_type": "code",
      "source": [
        "#which are 5 product that georgia needs the most?\n",
        "fig,ax=plt.subplots()\n",
        "\n",
        "\n",
        "trade_2023[trade_2023['Type']=='Import'].groupby('Name')['Quantity'].sum().sort_values().tail(5).plot.barh()\n",
        "ax.get_xaxis().set_major_formatter(\n",
        "    matplotlib.ticker.FuncFormatter(lambda x,p: format(int(x)//1000000, ',')))"
      ],
      "metadata": {
        "id": "9pdDGw0pA92t",
        "colab": {
          "base_uri": "https://localhost:8080/",
          "height": 430
        },
        "outputId": "a348c944-a2c6-4e91-b295-20bb056704f1"
      },
      "execution_count": 49,
      "outputs": [
        {
          "output_type": "display_data",
          "data": {
            "text/plain": [
              "<Figure size 640x480 with 1 Axes>"
            ],
            "image/png": "[encoded data removed]"
          },
          "metadata": {}
        }
      ]
    },
    {
      "cell_type": "code",
      "source": [
        "#what is most exported and imported proudut Based on Months\n",
        "\n",
        "df =  trade_2023.groupby(['Type','Month','Name'],as_index=False)[['Type','Month','Quantity','Name']].sum()\n",
        "\n",
        "x = df['Month'].unique()\n",
        "y = df['Type'].unique()\n",
        "top= []\n",
        "for taip in y:\n",
        "  for month in x:\n",
        "    id = df[(df['Month']==month) & (df['Type']==taip)]['Quantity'].idxmax()\n",
        "\n",
        "    top.append(df.loc[id])\n",
        "\n",
        "top= pd.DataFrame(top)"
      ],
      "metadata": {
        "id": "ki9mtTu0JymA",
        "colab": {
          "base_uri": "https://localhost:8080/"
        },
        "outputId": "77959283-c63c-43bf-b2c3-30983b6d8124"
      },
      "execution_count": 23,
      "outputs": [
        {
          "output_type": "stream",
          "name": "stderr",
          "text": [
            "<ipython-input-23-cbb57b309bb1>:3: FutureWarning: The default value of numeric_only in DataFrameGroupBy.sum is deprecated. In a future version, numeric_only will default to False. Either specify numeric_only or select only columns which should be valid for the function.\n",
            "  df =  trade_2023.groupby(['Type','Month','Name'],as_index=False)[['Type','Month','Quantity','Name']].sum()\n"
          ]
        }
      ]
    },
    {
      "cell_type": "code",
      "source": [
        "top['MonthNo']=pd.to_datetime(top['Month']+'-2023')"
      ],
      "metadata": {
        "id": "7y9GkiBJfyTp"
      },
      "execution_count": 24,
      "outputs": []
    },
    {
      "cell_type": "code",
      "source": [
        "top= top.sort_values(by='MonthNo').copy()"
      ],
      "metadata": {
        "id": "vLFkPYmHhu8G"
      },
      "execution_count": 25,
      "outputs": []
    },
    {
      "cell_type": "code",
      "source": [
        "labels=top[top['Type']=='Export']['Name']\n",
        "x= range(len(labels))\n",
        "print(type(labels.tolist()))"
      ],
      "metadata": {
        "id": "mPMgQtzg4bRo",
        "colab": {
          "base_uri": "https://localhost:8080/"
        },
        "outputId": "4424e961-379c-4571-c8e7-c015a215a311"
      },
      "execution_count": 26,
      "outputs": [
        {
          "output_type": "stream",
          "name": "stdout",
          "text": [
            "<class 'list'>\n"
          ]
        }
      ]
    },
    {
      "cell_type": "code",
      "source": [
        "fig,ax=plt.subplots()\n",
        "\n",
        "ax.bar(data=top[top['Type']=='Export'],x='Month',height='Quantity')\n",
        "\n",
        "for i in range(len(x)):\n",
        "    ax.bar(x[i], top[top['Type']=='Export']['Quantity'].tolist()[i], label=labels.tolist()[i])\n",
        "\n",
        "plt.legend(loc='upper left', bbox_to_anchor=(1,1))\n",
        "plt.xticks(x,rotation='vertical')\n",
        "ax.get_yaxis().set_major_formatter(\n",
        "    matplotlib.ticker.FuncFormatter(lambda x,p: format(int(x)//1000000, ',')))\n",
        "ax.set_ylabel('In Millions')\n",
        "plt.show()"
      ],
      "metadata": {
        "colab": {
          "base_uri": "https://localhost:8080/",
          "height": 493
        },
        "id": "PHbqA2XuAHt1",
        "outputId": "14c4aac9-3856-458e-cf44-0c222ae0dfb7"
      },
      "execution_count": 27,
      "outputs": [
        {
          "output_type": "display_data",
          "data": {
            "text/plain": [
              "<Figure size 640x480 with 1 Axes>"
            ],
            "image/png": "[encoded data removed]"
          },
          "metadata": {}
        }
      ]
    },
    {
      "cell_type": "code",
      "source": [
        "labels=top[top['Type']=='Import']['Name']\n",
        "x= range(len(labels))\n",
        "print(type(labels.tolist()))"
      ],
      "metadata": {
        "colab": {
          "base_uri": "https://localhost:8080/"
        },
        "id": "8FajxStiNEcx",
        "outputId": "dece9793-5f44-4cf8-d216-357404e89924"
      },
      "execution_count": 28,
      "outputs": [
        {
          "output_type": "stream",
          "name": "stdout",
          "text": [
            "<class 'list'>\n"
          ]
        }
      ]
    },
    {
      "cell_type": "code",
      "source": [
        "fig,ax=plt.subplots()\n",
        "\n",
        "ax.bar(data=top[top['Type']=='Import'],x='Month',height='Quantity')\n",
        "\n",
        "for i in range(len(x)):\n",
        "    ax.bar(x[i], top[top['Type']=='Import']['Quantity'].tolist()[i], label=labels.tolist()[i])\n",
        "\n",
        "plt.legend(loc='upper left', bbox_to_anchor=(1,1))\n",
        "plt.xticks(x,rotation='vertical')\n",
        "ax.get_yaxis().set_major_formatter(\n",
        "    matplotlib.ticker.FuncFormatter(lambda x,p: format(int(x)//1000000, ',')))\n",
        "ax.set_ylabel('In Millions')\n",
        "plt.show()"
      ],
      "metadata": {
        "colab": {
          "base_uri": "https://localhost:8080/",
          "height": 493
        },
        "id": "TwISMcc0UK09",
        "outputId": "31f3114e-a3e1-4624-be91-494e28710183"
      },
      "execution_count": 29,
      "outputs": [
        {
          "output_type": "display_data",
          "data": {
            "text/plain": [
              "<Figure size 640x480 with 1 Axes>"
            ],
            "image/png": "[encoded data removed]"
          },
          "metadata": {}
        }
      ]
    }
  ]
}