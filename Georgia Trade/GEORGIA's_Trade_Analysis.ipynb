{
  "nbformat": 4,
  "nbformat_minor": 0,
  "metadata": {
    "colab": {
      "provenance": []
    },
    "kernelspec": {
      "name": "python3",
      "display_name": "Python 3"
    },
    "language_info": {
      "name": "python"
    }
  },
  "cells": [
    {
      "cell_type": "code",
      "execution_count": 1,
      "metadata": {
        "colab": {
          "base_uri": "https://localhost:8080/"
        },
        "id": "xo0OpEF6sSsn",
        "outputId": "b3c33a4d-6f28-4674-9aee-7f01d0a862a2"
      },
      "outputs": [
        {
          "output_type": "stream",
          "name": "stdout",
          "text": [
            "Archive:  /content/trade.zip\n",
            "   creating: archive (10)/\n",
            "  inflating: archive (10)/georgia-trade-2023.csv  \n",
            "  inflating: archive (10)/trade_2022.csv  \n",
            "\u001b[0m\u001b[01;34m'archive (10)'\u001b[0m/   \u001b[01;34msample_data\u001b[0m/   trade.zip\n"
          ]
        }
      ],
      "source": [
        "!unzip /content/trade.zip\n",
        "%ls"
      ]
    },
    {
      "cell_type": "code",
      "source": [
        "\n",
        "import pandas as pd\n",
        "pd.options.display.float_format = '{:.2f}'.format\n",
        "\n",
        "# Load csv file\n",
        "path = \"/content/archive (10)/georgia-trade-2023.csv\"\n",
        "trade_2023 = pd.read_csv(path)"
      ],
      "metadata": {
        "id": "H3kU9YQDAHC7"
      },
      "execution_count": 2,
      "outputs": []
    },
    {
      "cell_type": "code",
      "source": [
        "trade_2023.head()\n"
      ],
      "metadata": {
        "id": "ZiMnbk6BskEC",
        "colab": {
          "base_uri": "https://localhost:8080/",
          "height": 206
        },
        "outputId": "3161b0d2-32e5-4c6e-80bb-0986d957d073"
      },
      "execution_count": 3,
      "outputs": [
        {
          "output_type": "execute_result",
          "data": {
            "text/plain": [
              "   Unnamed: 0         Code    Type  Quantity  Quantity_kg      Cost    Month  \\\n",
              "0           0  70051030000  Import  22466.59    222546.67  33782.52  January   \n",
              "1           1  39219090000  Import  58782.40     58782.40 547996.80  January   \n",
              "2           2  39241000000  Import  10330.41     10330.41  33773.50  January   \n",
              "3           3  94016900000  Import     50.00        50.00     64.04  January   \n",
              "4           4  83021000009  Import   1150.84      1150.84  13265.36  January   \n",
              "\n",
              "   Year  Country  Category Name  \n",
              "0  2023     Iran      7005  NaN  \n",
              "1  2023  Türkiye      3921  NaN  \n",
              "2  2023  Türkiye      3924  NaN  \n",
              "3  2023   France      9401  NaN  \n",
              "4  2023  Germany      8302  NaN  "
            ],
            "text/html": [
              "\n",
              "  <div id=\"df-d35cbb29-270d-4426-9be9-de43f1bb8dca\" class=\"colab-df-container\">\n",
              "    <div>\n",
              "<style scoped>\n",
              "    .dataframe tbody tr th:only-of-type {\n",
              "        vertical-align: middle;\n",
              "    }\n",
              "\n",
              "    .dataframe tbody tr th {\n",
              "        vertical-align: top;\n",
              "    }\n",
              "\n",
              "    .dataframe thead th {\n",
              "        text-align: right;\n",
              "    }\n",
              "</style>\n",
              "<table border=\"1\" class=\"dataframe\">\n",
              "  <thead>\n",
              "    <tr style=\"text-align: right;\">\n",
              "      <th></th>\n",
              "      <th>Unnamed: 0</th>\n",
              "      <th>Code</th>\n",
              "      <th>Type</th>\n",
              "      <th>Quantity</th>\n",
              "      <th>Quantity_kg</th>\n",
              "      <th>Cost</th>\n",
              "      <th>Month</th>\n",
              "      <th>Year</th>\n",
              "      <th>Country</th>\n",
              "      <th>Category</th>\n",
              "      <th>Name</th>\n",
              "    </tr>\n",
              "  </thead>\n",
              "  <tbody>\n",
              "    <tr>\n",
              "      <th>0</th>\n",
              "      <td>0</td>\n",
              "      <td>70051030000</td>\n",
              "      <td>Import</td>\n",
              "      <td>22466.59</td>\n",
              "      <td>222546.67</td>\n",
              "      <td>33782.52</td>\n",
              "      <td>January</td>\n",
              "      <td>2023</td>\n",
              "      <td>Iran</td>\n",
              "      <td>7005</td>\n",
              "      <td>NaN</td>\n",
              "    </tr>\n",
              "    <tr>\n",
              "      <th>1</th>\n",
              "      <td>1</td>\n",
              "      <td>39219090000</td>\n",
              "      <td>Import</td>\n",
              "      <td>58782.40</td>\n",
              "      <td>58782.40</td>\n",
              "      <td>547996.80</td>\n",
              "      <td>January</td>\n",
              "      <td>2023</td>\n",
              "      <td>Türkiye</td>\n",
              "      <td>3921</td>\n",
              "      <td>NaN</td>\n",
              "    </tr>\n",
              "    <tr>\n",
              "      <th>2</th>\n",
              "      <td>2</td>\n",
              "      <td>39241000000</td>\n",
              "      <td>Import</td>\n",
              "      <td>10330.41</td>\n",
              "      <td>10330.41</td>\n",
              "      <td>33773.50</td>\n",
              "      <td>January</td>\n",
              "      <td>2023</td>\n",
              "      <td>Türkiye</td>\n",
              "      <td>3924</td>\n",
              "      <td>NaN</td>\n",
              "    </tr>\n",
              "    <tr>\n",
              "      <th>3</th>\n",
              "      <td>3</td>\n",
              "      <td>94016900000</td>\n",
              "      <td>Import</td>\n",
              "      <td>50.00</td>\n",
              "      <td>50.00</td>\n",
              "      <td>64.04</td>\n",
              "      <td>January</td>\n",
              "      <td>2023</td>\n",
              "      <td>France</td>\n",
              "      <td>9401</td>\n",
              "      <td>NaN</td>\n",
              "    </tr>\n",
              "    <tr>\n",
              "      <th>4</th>\n",
              "      <td>4</td>\n",
              "      <td>83021000009</td>\n",
              "      <td>Import</td>\n",
              "      <td>1150.84</td>\n",
              "      <td>1150.84</td>\n",
              "      <td>13265.36</td>\n",
              "      <td>January</td>\n",
              "      <td>2023</td>\n",
              "      <td>Germany</td>\n",
              "      <td>8302</td>\n",
              "      <td>NaN</td>\n",
              "    </tr>\n",
              "  </tbody>\n",
              "</table>\n",
              "</div>\n",
              "    <div class=\"colab-df-buttons\">\n",
              "\n",
              "  <div class=\"colab-df-container\">\n",
              "    <button class=\"colab-df-convert\" onclick=\"convertToInteractive('df-d35cbb29-270d-4426-9be9-de43f1bb8dca')\"\n",
              "            title=\"Convert this dataframe to an interactive table.\"\n",
              "            style=\"display:none;\">\n",
              "\n",
              "  <svg xmlns=\"http://www.w3.org/2000/svg\" height=\"24px\" viewBox=\"0 -960 960 960\">\n",
              "    <path d=\"M120-120v-720h720v720H120Zm60-500h600v-160H180v160Zm220 220h160v-160H400v160Zm0 220h160v-160H400v160ZM180-400h160v-160H180v160Zm440 0h160v-160H620v160ZM180-180h160v-160H180v160Zm440 0h160v-160H620v160Z\"/>\n",
              "  </svg>\n",
              "    </button>\n",
              "\n",
              "  <style>\n",
              "    .colab-df-container {\n",
              "      display:flex;\n",
              "      gap: 12px;\n",
              "    }\n",
              "\n",
              "    .colab-df-convert {\n",
              "      background-color: #E8F0FE;\n",
              "      border: none;\n",
              "      border-radius: 50%;\n",
              "      cursor: pointer;\n",
              "      display: none;\n",
              "      fill: #1967D2;\n",
              "      height: 32px;\n",
              "      padding: 0 0 0 0;\n",
              "      width: 32px;\n",
              "    }\n",
              "\n",
              "    .colab-df-convert:hover {\n",
              "      background-color: #E2EBFA;\n",
              "      box-shadow: 0px 1px 2px rgba(60, 64, 67, 0.3), 0px 1px 3px 1px rgba(60, 64, 67, 0.15);\n",
              "      fill: #174EA6;\n",
              "    }\n",
              "\n",
              "    .colab-df-buttons div {\n",
              "      margin-bottom: 4px;\n",
              "    }\n",
              "\n",
              "    [theme=dark] .colab-df-convert {\n",
              "      background-color: #3B4455;\n",
              "      fill: #D2E3FC;\n",
              "    }\n",
              "\n",
              "    [theme=dark] .colab-df-convert:hover {\n",
              "      background-color: #434B5C;\n",
              "      box-shadow: 0px 1px 3px 1px rgba(0, 0, 0, 0.15);\n",
              "      filter: drop-shadow(0px 1px 2px rgba(0, 0, 0, 0.3));\n",
              "      fill: #FFFFFF;\n",
              "    }\n",
              "  </style>\n",
              "\n",
              "    <script>\n",
              "      const buttonEl =\n",
              "        document.querySelector('#df-d35cbb29-270d-4426-9be9-de43f1bb8dca button.colab-df-convert');\n",
              "      buttonEl.style.display =\n",
              "        google.colab.kernel.accessAllowed ? 'block' : 'none';\n",
              "\n",
              "      async function convertToInteractive(key) {\n",
              "        const element = document.querySelector('#df-d35cbb29-270d-4426-9be9-de43f1bb8dca');\n",
              "        const dataTable =\n",
              "          await google.colab.kernel.invokeFunction('convertToInteractive',\n",
              "                                                    [key], {});\n",
              "        if (!dataTable) return;\n",
              "\n",
              "        const docLinkHtml = 'Like what you see? Visit the ' +\n",
              "          '<a target=\"_blank\" href=https://colab.research.google.com/notebooks/data_table.ipynb>data table notebook</a>'\n",
              "          + ' to learn more about interactive tables.';\n",
              "        element.innerHTML = '';\n",
              "        dataTable['output_type'] = 'display_data';\n",
              "        await google.colab.output.renderOutput(dataTable, element);\n",
              "        const docLink = document.createElement('div');\n",
              "        docLink.innerHTML = docLinkHtml;\n",
              "        element.appendChild(docLink);\n",
              "      }\n",
              "    </script>\n",
              "  </div>\n",
              "\n",
              "\n",
              "<div id=\"df-5fff1479-b4f8-4990-a218-b8f40c710b2f\">\n",
              "  <button class=\"colab-df-quickchart\" onclick=\"quickchart('df-5fff1479-b4f8-4990-a218-b8f40c710b2f')\"\n",
              "            title=\"Suggest charts\"\n",
              "            style=\"display:none;\">\n",
              "\n",
              "<svg xmlns=\"http://www.w3.org/2000/svg\" height=\"24px\"viewBox=\"0 0 24 24\"\n",
              "     width=\"24px\">\n",
              "    <g>\n",
              "        <path d=\"M19 3H5c-1.1 0-2 .9-2 2v14c0 1.1.9 2 2 2h14c1.1 0 2-.9 2-2V5c0-1.1-.9-2-2-2zM9 17H7v-7h2v7zm4 0h-2V7h2v10zm4 0h-2v-4h2v4z\"/>\n",
              "    </g>\n",
              "</svg>\n",
              "  </button>\n",
              "\n",
              "<style>\n",
              "  .colab-df-quickchart {\n",
              "      --bg-color: #E8F0FE;\n",
              "      --fill-color: #1967D2;\n",
              "      --hover-bg-color: #E2EBFA;\n",
              "      --hover-fill-color: #174EA6;\n",
              "      --disabled-fill-color: #AAA;\n",
              "      --disabled-bg-color: #DDD;\n",
              "  }\n",
              "\n",
              "  [theme=dark] .colab-df-quickchart {\n",
              "      --bg-color: #3B4455;\n",
              "      --fill-color: #D2E3FC;\n",
              "      --hover-bg-color: #434B5C;\n",
              "      --hover-fill-color: #FFFFFF;\n",
              "      --disabled-bg-color: #3B4455;\n",
              "      --disabled-fill-color: #666;\n",
              "  }\n",
              "\n",
              "  .colab-df-quickchart {\n",
              "    background-color: var(--bg-color);\n",
              "    border: none;\n",
              "    border-radius: 50%;\n",
              "    cursor: pointer;\n",
              "    display: none;\n",
              "    fill: var(--fill-color);\n",
              "    height: 32px;\n",
              "    padding: 0;\n",
              "    width: 32px;\n",
              "  }\n",
              "\n",
              "  .colab-df-quickchart:hover {\n",
              "    background-color: var(--hover-bg-color);\n",
              "    box-shadow: 0 1px 2px rgba(60, 64, 67, 0.3), 0 1px 3px 1px rgba(60, 64, 67, 0.15);\n",
              "    fill: var(--button-hover-fill-color);\n",
              "  }\n",
              "\n",
              "  .colab-df-quickchart-complete:disabled,\n",
              "  .colab-df-quickchart-complete:disabled:hover {\n",
              "    background-color: var(--disabled-bg-color);\n",
              "    fill: var(--disabled-fill-color);\n",
              "    box-shadow: none;\n",
              "  }\n",
              "\n",
              "  .colab-df-spinner {\n",
              "    border: 2px solid var(--fill-color);\n",
              "    border-color: transparent;\n",
              "    border-bottom-color: var(--fill-color);\n",
              "    animation:\n",
              "      spin 1s steps(1) infinite;\n",
              "  }\n",
              "\n",
              "  @keyframes spin {\n",
              "    0% {\n",
              "      border-color: transparent;\n",
              "      border-bottom-color: var(--fill-color);\n",
              "      border-left-color: var(--fill-color);\n",
              "    }\n",
              "    20% {\n",
              "      border-color: transparent;\n",
              "      border-left-color: var(--fill-color);\n",
              "      border-top-color: var(--fill-color);\n",
              "    }\n",
              "    30% {\n",
              "      border-color: transparent;\n",
              "      border-left-color: var(--fill-color);\n",
              "      border-top-color: var(--fill-color);\n",
              "      border-right-color: var(--fill-color);\n",
              "    }\n",
              "    40% {\n",
              "      border-color: transparent;\n",
              "      border-right-color: var(--fill-color);\n",
              "      border-top-color: var(--fill-color);\n",
              "    }\n",
              "    60% {\n",
              "      border-color: transparent;\n",
              "      border-right-color: var(--fill-color);\n",
              "    }\n",
              "    80% {\n",
              "      border-color: transparent;\n",
              "      border-right-color: var(--fill-color);\n",
              "      border-bottom-color: var(--fill-color);\n",
              "    }\n",
              "    90% {\n",
              "      border-color: transparent;\n",
              "      border-bottom-color: var(--fill-color);\n",
              "    }\n",
              "  }\n",
              "</style>\n",
              "\n",
              "  <script>\n",
              "    async function quickchart(key) {\n",
              "      const quickchartButtonEl =\n",
              "        document.querySelector('#' + key + ' button');\n",
              "      quickchartButtonEl.disabled = true;  // To prevent multiple clicks.\n",
              "      quickchartButtonEl.classList.add('colab-df-spinner');\n",
              "      try {\n",
              "        const charts = await google.colab.kernel.invokeFunction(\n",
              "            'suggestCharts', [key], {});\n",
              "      } catch (error) {\n",
              "        console.error('Error during call to suggestCharts:', error);\n",
              "      }\n",
              "      quickchartButtonEl.classList.remove('colab-df-spinner');\n",
              "      quickchartButtonEl.classList.add('colab-df-quickchart-complete');\n",
              "    }\n",
              "    (() => {\n",
              "      let quickchartButtonEl =\n",
              "        document.querySelector('#df-5fff1479-b4f8-4990-a218-b8f40c710b2f button');\n",
              "      quickchartButtonEl.style.display =\n",
              "        google.colab.kernel.accessAllowed ? 'block' : 'none';\n",
              "    })();\n",
              "  </script>\n",
              "</div>\n",
              "\n",
              "    </div>\n",
              "  </div>\n"
            ]
          },
          "metadata": {},
          "execution_count": 3
        }
      ]
    },
    {
      "cell_type": "code",
      "source": [
        "trade_2023.drop(columns=trade_2023.columns[0],inplace=True)"
      ],
      "metadata": {
        "id": "6ZTUgV9ezpRX"
      },
      "execution_count": 4,
      "outputs": []
    },
    {
      "cell_type": "code",
      "source": [
        "trade_2023.head()"
      ],
      "metadata": {
        "colab": {
          "base_uri": "https://localhost:8080/",
          "height": 206
        },
        "id": "IcPG0Etbzzy9",
        "outputId": "643795ba-5e27-4bc1-c89d-dd487f6cfa57"
      },
      "execution_count": 5,
      "outputs": [
        {
          "output_type": "execute_result",
          "data": {
            "text/plain": [
              "          Code    Type  Quantity  Quantity_kg      Cost    Month  Year  \\\n",
              "0  70051030000  Import  22466.59    222546.67  33782.52  January  2023   \n",
              "1  39219090000  Import  58782.40     58782.40 547996.80  January  2023   \n",
              "2  39241000000  Import  10330.41     10330.41  33773.50  January  2023   \n",
              "3  94016900000  Import     50.00        50.00     64.04  January  2023   \n",
              "4  83021000009  Import   1150.84      1150.84  13265.36  January  2023   \n",
              "\n",
              "   Country  Category Name  \n",
              "0     Iran      7005  NaN  \n",
              "1  Türkiye      3921  NaN  \n",
              "2  Türkiye      3924  NaN  \n",
              "3   France      9401  NaN  \n",
              "4  Germany      8302  NaN  "
            ],
            "text/html": [
              "\n",
              "  <div id=\"df-f1713c77-f43e-436b-93f0-ca56ff9e93e1\" class=\"colab-df-container\">\n",
              "    <div>\n",
              "<style scoped>\n",
              "    .dataframe tbody tr th:only-of-type {\n",
              "        vertical-align: middle;\n",
              "    }\n",
              "\n",
              "    .dataframe tbody tr th {\n",
              "        vertical-align: top;\n",
              "    }\n",
              "\n",
              "    .dataframe thead th {\n",
              "        text-align: right;\n",
              "    }\n",
              "</style>\n",
              "<table border=\"1\" class=\"dataframe\">\n",
              "  <thead>\n",
              "    <tr style=\"text-align: right;\">\n",
              "      <th></th>\n",
              "      <th>Code</th>\n",
              "      <th>Type</th>\n",
              "      <th>Quantity</th>\n",
              "      <th>Quantity_kg</th>\n",
              "      <th>Cost</th>\n",
              "      <th>Month</th>\n",
              "      <th>Year</th>\n",
              "      <th>Country</th>\n",
              "      <th>Category</th>\n",
              "      <th>Name</th>\n",
              "    </tr>\n",
              "  </thead>\n",
              "  <tbody>\n",
              "    <tr>\n",
              "      <th>0</th>\n",
              "      <td>70051030000</td>\n",
              "      <td>Import</td>\n",
              "      <td>22466.59</td>\n",
              "      <td>222546.67</td>\n",
              "      <td>33782.52</td>\n",
              "      <td>January</td>\n",
              "      <td>2023</td>\n",
              "      <td>Iran</td>\n",
              "      <td>7005</td>\n",
              "      <td>NaN</td>\n",
              "    </tr>\n",
              "    <tr>\n",
              "      <th>1</th>\n",
              "      <td>39219090000</td>\n",
              "      <td>Import</td>\n",
              "      <td>58782.40</td>\n",
              "      <td>58782.40</td>\n",
              "      <td>547996.80</td>\n",
              "      <td>January</td>\n",
              "      <td>2023</td>\n",
              "      <td>Türkiye</td>\n",
              "      <td>3921</td>\n",
              "      <td>NaN</td>\n",
              "    </tr>\n",
              "    <tr>\n",
              "      <th>2</th>\n",
              "      <td>39241000000</td>\n",
              "      <td>Import</td>\n",
              "      <td>10330.41</td>\n",
              "      <td>10330.41</td>\n",
              "      <td>33773.50</td>\n",
              "      <td>January</td>\n",
              "      <td>2023</td>\n",
              "      <td>Türkiye</td>\n",
              "      <td>3924</td>\n",
              "      <td>NaN</td>\n",
              "    </tr>\n",
              "    <tr>\n",
              "      <th>3</th>\n",
              "      <td>94016900000</td>\n",
              "      <td>Import</td>\n",
              "      <td>50.00</td>\n",
              "      <td>50.00</td>\n",
              "      <td>64.04</td>\n",
              "      <td>January</td>\n",
              "      <td>2023</td>\n",
              "      <td>France</td>\n",
              "      <td>9401</td>\n",
              "      <td>NaN</td>\n",
              "    </tr>\n",
              "    <tr>\n",
              "      <th>4</th>\n",
              "      <td>83021000009</td>\n",
              "      <td>Import</td>\n",
              "      <td>1150.84</td>\n",
              "      <td>1150.84</td>\n",
              "      <td>13265.36</td>\n",
              "      <td>January</td>\n",
              "      <td>2023</td>\n",
              "      <td>Germany</td>\n",
              "      <td>8302</td>\n",
              "      <td>NaN</td>\n",
              "    </tr>\n",
              "  </tbody>\n",
              "</table>\n",
              "</div>\n",
              "    <div class=\"colab-df-buttons\">\n",
              "\n",
              "  <div class=\"colab-df-container\">\n",
              "    <button class=\"colab-df-convert\" onclick=\"convertToInteractive('df-f1713c77-f43e-436b-93f0-ca56ff9e93e1')\"\n",
              "            title=\"Convert this dataframe to an interactive table.\"\n",
              "            style=\"display:none;\">\n",
              "\n",
              "  <svg xmlns=\"http://www.w3.org/2000/svg\" height=\"24px\" viewBox=\"0 -960 960 960\">\n",
              "    <path d=\"M120-120v-720h720v720H120Zm60-500h600v-160H180v160Zm220 220h160v-160H400v160Zm0 220h160v-160H400v160ZM180-400h160v-160H180v160Zm440 0h160v-160H620v160ZM180-180h160v-160H180v160Zm440 0h160v-160H620v160Z\"/>\n",
              "  </svg>\n",
              "    </button>\n",
              "\n",
              "  <style>\n",
              "    .colab-df-container {\n",
              "      display:flex;\n",
              "      gap: 12px;\n",
              "    }\n",
              "\n",
              "    .colab-df-convert {\n",
              "      background-color: #E8F0FE;\n",
              "      border: none;\n",
              "      border-radius: 50%;\n",
              "      cursor: pointer;\n",
              "      display: none;\n",
              "      fill: #1967D2;\n",
              "      height: 32px;\n",
              "      padding: 0 0 0 0;\n",
              "      width: 32px;\n",
              "    }\n",
              "\n",
              "    .colab-df-convert:hover {\n",
              "      background-color: #E2EBFA;\n",
              "      box-shadow: 0px 1px 2px rgba(60, 64, 67, 0.3), 0px 1px 3px 1px rgba(60, 64, 67, 0.15);\n",
              "      fill: #174EA6;\n",
              "    }\n",
              "\n",
              "    .colab-df-buttons div {\n",
              "      margin-bottom: 4px;\n",
              "    }\n",
              "\n",
              "    [theme=dark] .colab-df-convert {\n",
              "      background-color: #3B4455;\n",
              "      fill: #D2E3FC;\n",
              "    }\n",
              "\n",
              "    [theme=dark] .colab-df-convert:hover {\n",
              "      background-color: #434B5C;\n",
              "      box-shadow: 0px 1px 3px 1px rgba(0, 0, 0, 0.15);\n",
              "      filter: drop-shadow(0px 1px 2px rgba(0, 0, 0, 0.3));\n",
              "      fill: #FFFFFF;\n",
              "    }\n",
              "  </style>\n",
              "\n",
              "    <script>\n",
              "      const buttonEl =\n",
              "        document.querySelector('#df-f1713c77-f43e-436b-93f0-ca56ff9e93e1 button.colab-df-convert');\n",
              "      buttonEl.style.display =\n",
              "        google.colab.kernel.accessAllowed ? 'block' : 'none';\n",
              "\n",
              "      async function convertToInteractive(key) {\n",
              "        const element = document.querySelector('#df-f1713c77-f43e-436b-93f0-ca56ff9e93e1');\n",
              "        const dataTable =\n",
              "          await google.colab.kernel.invokeFunction('convertToInteractive',\n",
              "                                                    [key], {});\n",
              "        if (!dataTable) return;\n",
              "\n",
              "        const docLinkHtml = 'Like what you see? Visit the ' +\n",
              "          '<a target=\"_blank\" href=https://colab.research.google.com/notebooks/data_table.ipynb>data table notebook</a>'\n",
              "          + ' to learn more about interactive tables.';\n",
              "        element.innerHTML = '';\n",
              "        dataTable['output_type'] = 'display_data';\n",
              "        await google.colab.output.renderOutput(dataTable, element);\n",
              "        const docLink = document.createElement('div');\n",
              "        docLink.innerHTML = docLinkHtml;\n",
              "        element.appendChild(docLink);\n",
              "      }\n",
              "    </script>\n",
              "  </div>\n",
              "\n",
              "\n",
              "<div id=\"df-855affbf-a06b-4abf-8b8a-51010ffe2b55\">\n",
              "  <button class=\"colab-df-quickchart\" onclick=\"quickchart('df-855affbf-a06b-4abf-8b8a-51010ffe2b55')\"\n",
              "            title=\"Suggest charts\"\n",
              "            style=\"display:none;\">\n",
              "\n",
              "<svg xmlns=\"http://www.w3.org/2000/svg\" height=\"24px\"viewBox=\"0 0 24 24\"\n",
              "     width=\"24px\">\n",
              "    <g>\n",
              "        <path d=\"M19 3H5c-1.1 0-2 .9-2 2v14c0 1.1.9 2 2 2h14c1.1 0 2-.9 2-2V5c0-1.1-.9-2-2-2zM9 17H7v-7h2v7zm4 0h-2V7h2v10zm4 0h-2v-4h2v4z\"/>\n",
              "    </g>\n",
              "</svg>\n",
              "  </button>\n",
              "\n",
              "<style>\n",
              "  .colab-df-quickchart {\n",
              "      --bg-color: #E8F0FE;\n",
              "      --fill-color: #1967D2;\n",
              "      --hover-bg-color: #E2EBFA;\n",
              "      --hover-fill-color: #174EA6;\n",
              "      --disabled-fill-color: #AAA;\n",
              "      --disabled-bg-color: #DDD;\n",
              "  }\n",
              "\n",
              "  [theme=dark] .colab-df-quickchart {\n",
              "      --bg-color: #3B4455;\n",
              "      --fill-color: #D2E3FC;\n",
              "      --hover-bg-color: #434B5C;\n",
              "      --hover-fill-color: #FFFFFF;\n",
              "      --disabled-bg-color: #3B4455;\n",
              "      --disabled-fill-color: #666;\n",
              "  }\n",
              "\n",
              "  .colab-df-quickchart {\n",
              "    background-color: var(--bg-color);\n",
              "    border: none;\n",
              "    border-radius: 50%;\n",
              "    cursor: pointer;\n",
              "    display: none;\n",
              "    fill: var(--fill-color);\n",
              "    height: 32px;\n",
              "    padding: 0;\n",
              "    width: 32px;\n",
              "  }\n",
              "\n",
              "  .colab-df-quickchart:hover {\n",
              "    background-color: var(--hover-bg-color);\n",
              "    box-shadow: 0 1px 2px rgba(60, 64, 67, 0.3), 0 1px 3px 1px rgba(60, 64, 67, 0.15);\n",
              "    fill: var(--button-hover-fill-color);\n",
              "  }\n",
              "\n",
              "  .colab-df-quickchart-complete:disabled,\n",
              "  .colab-df-quickchart-complete:disabled:hover {\n",
              "    background-color: var(--disabled-bg-color);\n",
              "    fill: var(--disabled-fill-color);\n",
              "    box-shadow: none;\n",
              "  }\n",
              "\n",
              "  .colab-df-spinner {\n",
              "    border: 2px solid var(--fill-color);\n",
              "    border-color: transparent;\n",
              "    border-bottom-color: var(--fill-color);\n",
              "    animation:\n",
              "      spin 1s steps(1) infinite;\n",
              "  }\n",
              "\n",
              "  @keyframes spin {\n",
              "    0% {\n",
              "      border-color: transparent;\n",
              "      border-bottom-color: var(--fill-color);\n",
              "      border-left-color: var(--fill-color);\n",
              "    }\n",
              "    20% {\n",
              "      border-color: transparent;\n",
              "      border-left-color: var(--fill-color);\n",
              "      border-top-color: var(--fill-color);\n",
              "    }\n",
              "    30% {\n",
              "      border-color: transparent;\n",
              "      border-left-color: var(--fill-color);\n",
              "      border-top-color: var(--fill-color);\n",
              "      border-right-color: var(--fill-color);\n",
              "    }\n",
              "    40% {\n",
              "      border-color: transparent;\n",
              "      border-right-color: var(--fill-color);\n",
              "      border-top-color: var(--fill-color);\n",
              "    }\n",
              "    60% {\n",
              "      border-color: transparent;\n",
              "      border-right-color: var(--fill-color);\n",
              "    }\n",
              "    80% {\n",
              "      border-color: transparent;\n",
              "      border-right-color: var(--fill-color);\n",
              "      border-bottom-color: var(--fill-color);\n",
              "    }\n",
              "    90% {\n",
              "      border-color: transparent;\n",
              "      border-bottom-color: var(--fill-color);\n",
              "    }\n",
              "  }\n",
              "</style>\n",
              "\n",
              "  <script>\n",
              "    async function quickchart(key) {\n",
              "      const quickchartButtonEl =\n",
              "        document.querySelector('#' + key + ' button');\n",
              "      quickchartButtonEl.disabled = true;  // To prevent multiple clicks.\n",
              "      quickchartButtonEl.classList.add('colab-df-spinner');\n",
              "      try {\n",
              "        const charts = await google.colab.kernel.invokeFunction(\n",
              "            'suggestCharts', [key], {});\n",
              "      } catch (error) {\n",
              "        console.error('Error during call to suggestCharts:', error);\n",
              "      }\n",
              "      quickchartButtonEl.classList.remove('colab-df-spinner');\n",
              "      quickchartButtonEl.classList.add('colab-df-quickchart-complete');\n",
              "    }\n",
              "    (() => {\n",
              "      let quickchartButtonEl =\n",
              "        document.querySelector('#df-855affbf-a06b-4abf-8b8a-51010ffe2b55 button');\n",
              "      quickchartButtonEl.style.display =\n",
              "        google.colab.kernel.accessAllowed ? 'block' : 'none';\n",
              "    })();\n",
              "  </script>\n",
              "</div>\n",
              "\n",
              "    </div>\n",
              "  </div>\n"
            ]
          },
          "metadata": {},
          "execution_count": 5
        }
      ]
    },
    {
      "cell_type": "code",
      "source": [
        "trade_2023.describe().astype(int)"
      ],
      "metadata": {
        "colab": {
          "base_uri": "https://localhost:8080/",
          "height": 300
        },
        "id": "UK1AS1bJzllB",
        "outputId": "ce876dac-b95a-446d-83e5-bacbf71b9a22"
      },
      "execution_count": 6,
      "outputs": [
        {
          "output_type": "execute_result",
          "data": {
            "text/plain": [
              "              Code  Quantity  Quantity_kg      Cost    Year  Category\n",
              "count       405756    405756       405756    405756  405756    405756\n",
              "mean   60976362644     23521        30121     31507    2023      6097\n",
              "std    26334556078    452395      1229843    387456       0      2633\n",
              "min     1012100000        -2           -2         0    2023       101\n",
              "25%    39219090000         8            9       268    2023      3921\n",
              "50%    64039113000        79           89      1598    2023      6403\n",
              "75%    84813091000       923         1058      9730    2023      8481\n",
              "max    99050000002  54376660    315789201  67131806    2023      9905"
            ],
            "text/html": [
              "\n",
              "  <div id=\"df-34b7f2f3-ad34-47e8-8a8a-81c6035381f3\" class=\"colab-df-container\">\n",
              "    <div>\n",
              "<style scoped>\n",
              "    .dataframe tbody tr th:only-of-type {\n",
              "        vertical-align: middle;\n",
              "    }\n",
              "\n",
              "    .dataframe tbody tr th {\n",
              "        vertical-align: top;\n",
              "    }\n",
              "\n",
              "    .dataframe thead th {\n",
              "        text-align: right;\n",
              "    }\n",
              "</style>\n",
              "<table border=\"1\" class=\"dataframe\">\n",
              "  <thead>\n",
              "    <tr style=\"text-align: right;\">\n",
              "      <th></th>\n",
              "      <th>Code</th>\n",
              "      <th>Quantity</th>\n",
              "      <th>Quantity_kg</th>\n",
              "      <th>Cost</th>\n",
              "      <th>Year</th>\n",
              "      <th>Category</th>\n",
              "    </tr>\n",
              "  </thead>\n",
              "  <tbody>\n",
              "    <tr>\n",
              "      <th>count</th>\n",
              "      <td>405756</td>\n",
              "      <td>405756</td>\n",
              "      <td>405756</td>\n",
              "      <td>405756</td>\n",
              "      <td>405756</td>\n",
              "      <td>405756</td>\n",
              "    </tr>\n",
              "    <tr>\n",
              "      <th>mean</th>\n",
              "      <td>60976362644</td>\n",
              "      <td>23521</td>\n",
              "      <td>30121</td>\n",
              "      <td>31507</td>\n",
              "      <td>2023</td>\n",
              "      <td>6097</td>\n",
              "    </tr>\n",
              "    <tr>\n",
              "      <th>std</th>\n",
              "      <td>26334556078</td>\n",
              "      <td>452395</td>\n",
              "      <td>1229843</td>\n",
              "      <td>387456</td>\n",
              "      <td>0</td>\n",
              "      <td>2633</td>\n",
              "    </tr>\n",
              "    <tr>\n",
              "      <th>min</th>\n",
              "      <td>1012100000</td>\n",
              "      <td>-2</td>\n",
              "      <td>-2</td>\n",
              "      <td>0</td>\n",
              "      <td>2023</td>\n",
              "      <td>101</td>\n",
              "    </tr>\n",
              "    <tr>\n",
              "      <th>25%</th>\n",
              "      <td>39219090000</td>\n",
              "      <td>8</td>\n",
              "      <td>9</td>\n",
              "      <td>268</td>\n",
              "      <td>2023</td>\n",
              "      <td>3921</td>\n",
              "    </tr>\n",
              "    <tr>\n",
              "      <th>50%</th>\n",
              "      <td>64039113000</td>\n",
              "      <td>79</td>\n",
              "      <td>89</td>\n",
              "      <td>1598</td>\n",
              "      <td>2023</td>\n",
              "      <td>6403</td>\n",
              "    </tr>\n",
              "    <tr>\n",
              "      <th>75%</th>\n",
              "      <td>84813091000</td>\n",
              "      <td>923</td>\n",
              "      <td>1058</td>\n",
              "      <td>9730</td>\n",
              "      <td>2023</td>\n",
              "      <td>8481</td>\n",
              "    </tr>\n",
              "    <tr>\n",
              "      <th>max</th>\n",
              "      <td>99050000002</td>\n",
              "      <td>54376660</td>\n",
              "      <td>315789201</td>\n",
              "      <td>67131806</td>\n",
              "      <td>2023</td>\n",
              "      <td>9905</td>\n",
              "    </tr>\n",
              "  </tbody>\n",
              "</table>\n",
              "</div>\n",
              "    <div class=\"colab-df-buttons\">\n",
              "\n",
              "  <div class=\"colab-df-container\">\n",
              "    <button class=\"colab-df-convert\" onclick=\"convertToInteractive('df-34b7f2f3-ad34-47e8-8a8a-81c6035381f3')\"\n",
              "            title=\"Convert this dataframe to an interactive table.\"\n",
              "            style=\"display:none;\">\n",
              "\n",
              "  <svg xmlns=\"http://www.w3.org/2000/svg\" height=\"24px\" viewBox=\"0 -960 960 960\">\n",
              "    <path d=\"M120-120v-720h720v720H120Zm60-500h600v-160H180v160Zm220 220h160v-160H400v160Zm0 220h160v-160H400v160ZM180-400h160v-160H180v160Zm440 0h160v-160H620v160ZM180-180h160v-160H180v160Zm440 0h160v-160H620v160Z\"/>\n",
              "  </svg>\n",
              "    </button>\n",
              "\n",
              "  <style>\n",
              "    .colab-df-container {\n",
              "      display:flex;\n",
              "      gap: 12px;\n",
              "    }\n",
              "\n",
              "    .colab-df-convert {\n",
              "      background-color: #E8F0FE;\n",
              "      border: none;\n",
              "      border-radius: 50%;\n",
              "      cursor: pointer;\n",
              "      display: none;\n",
              "      fill: #1967D2;\n",
              "      height: 32px;\n",
              "      padding: 0 0 0 0;\n",
              "      width: 32px;\n",
              "    }\n",
              "\n",
              "    .colab-df-convert:hover {\n",
              "      background-color: #E2EBFA;\n",
              "      box-shadow: 0px 1px 2px rgba(60, 64, 67, 0.3), 0px 1px 3px 1px rgba(60, 64, 67, 0.15);\n",
              "      fill: #174EA6;\n",
              "    }\n",
              "\n",
              "    .colab-df-buttons div {\n",
              "      margin-bottom: 4px;\n",
              "    }\n",
              "\n",
              "    [theme=dark] .colab-df-convert {\n",
              "      background-color: #3B4455;\n",
              "      fill: #D2E3FC;\n",
              "    }\n",
              "\n",
              "    [theme=dark] .colab-df-convert:hover {\n",
              "      background-color: #434B5C;\n",
              "      box-shadow: 0px 1px 3px 1px rgba(0, 0, 0, 0.15);\n",
              "      filter: drop-shadow(0px 1px 2px rgba(0, 0, 0, 0.3));\n",
              "      fill: #FFFFFF;\n",
              "    }\n",
              "  </style>\n",
              "\n",
              "    <script>\n",
              "      const buttonEl =\n",
              "        document.querySelector('#df-34b7f2f3-ad34-47e8-8a8a-81c6035381f3 button.colab-df-convert');\n",
              "      buttonEl.style.display =\n",
              "        google.colab.kernel.accessAllowed ? 'block' : 'none';\n",
              "\n",
              "      async function convertToInteractive(key) {\n",
              "        const element = document.querySelector('#df-34b7f2f3-ad34-47e8-8a8a-81c6035381f3');\n",
              "        const dataTable =\n",
              "          await google.colab.kernel.invokeFunction('convertToInteractive',\n",
              "                                                    [key], {});\n",
              "        if (!dataTable) return;\n",
              "\n",
              "        const docLinkHtml = 'Like what you see? Visit the ' +\n",
              "          '<a target=\"_blank\" href=https://colab.research.google.com/notebooks/data_table.ipynb>data table notebook</a>'\n",
              "          + ' to learn more about interactive tables.';\n",
              "        element.innerHTML = '';\n",
              "        dataTable['output_type'] = 'display_data';\n",
              "        await google.colab.output.renderOutput(dataTable, element);\n",
              "        const docLink = document.createElement('div');\n",
              "        docLink.innerHTML = docLinkHtml;\n",
              "        element.appendChild(docLink);\n",
              "      }\n",
              "    </script>\n",
              "  </div>\n",
              "\n",
              "\n",
              "<div id=\"df-888b2071-a991-471b-8e2c-d033333af9c6\">\n",
              "  <button class=\"colab-df-quickchart\" onclick=\"quickchart('df-888b2071-a991-471b-8e2c-d033333af9c6')\"\n",
              "            title=\"Suggest charts\"\n",
              "            style=\"display:none;\">\n",
              "\n",
              "<svg xmlns=\"http://www.w3.org/2000/svg\" height=\"24px\"viewBox=\"0 0 24 24\"\n",
              "     width=\"24px\">\n",
              "    <g>\n",
              "        <path d=\"M19 3H5c-1.1 0-2 .9-2 2v14c0 1.1.9 2 2 2h14c1.1 0 2-.9 2-2V5c0-1.1-.9-2-2-2zM9 17H7v-7h2v7zm4 0h-2V7h2v10zm4 0h-2v-4h2v4z\"/>\n",
              "    </g>\n",
              "</svg>\n",
              "  </button>\n",
              "\n",
              "<style>\n",
              "  .colab-df-quickchart {\n",
              "      --bg-color: #E8F0FE;\n",
              "      --fill-color: #1967D2;\n",
              "      --hover-bg-color: #E2EBFA;\n",
              "      --hover-fill-color: #174EA6;\n",
              "      --disabled-fill-color: #AAA;\n",
              "      --disabled-bg-color: #DDD;\n",
              "  }\n",
              "\n",
              "  [theme=dark] .colab-df-quickchart {\n",
              "      --bg-color: #3B4455;\n",
              "      --fill-color: #D2E3FC;\n",
              "      --hover-bg-color: #434B5C;\n",
              "      --hover-fill-color: #FFFFFF;\n",
              "      --disabled-bg-color: #3B4455;\n",
              "      --disabled-fill-color: #666;\n",
              "  }\n",
              "\n",
              "  .colab-df-quickchart {\n",
              "    background-color: var(--bg-color);\n",
              "    border: none;\n",
              "    border-radius: 50%;\n",
              "    cursor: pointer;\n",
              "    display: none;\n",
              "    fill: var(--fill-color);\n",
              "    height: 32px;\n",
              "    padding: 0;\n",
              "    width: 32px;\n",
              "  }\n",
              "\n",
              "  .colab-df-quickchart:hover {\n",
              "    background-color: var(--hover-bg-color);\n",
              "    box-shadow: 0 1px 2px rgba(60, 64, 67, 0.3), 0 1px 3px 1px rgba(60, 64, 67, 0.15);\n",
              "    fill: var(--button-hover-fill-color);\n",
              "  }\n",
              "\n",
              "  .colab-df-quickchart-complete:disabled,\n",
              "  .colab-df-quickchart-complete:disabled:hover {\n",
              "    background-color: var(--disabled-bg-color);\n",
              "    fill: var(--disabled-fill-color);\n",
              "    box-shadow: none;\n",
              "  }\n",
              "\n",
              "  .colab-df-spinner {\n",
              "    border: 2px solid var(--fill-color);\n",
              "    border-color: transparent;\n",
              "    border-bottom-color: var(--fill-color);\n",
              "    animation:\n",
              "      spin 1s steps(1) infinite;\n",
              "  }\n",
              "\n",
              "  @keyframes spin {\n",
              "    0% {\n",
              "      border-color: transparent;\n",
              "      border-bottom-color: var(--fill-color);\n",
              "      border-left-color: var(--fill-color);\n",
              "    }\n",
              "    20% {\n",
              "      border-color: transparent;\n",
              "      border-left-color: var(--fill-color);\n",
              "      border-top-color: var(--fill-color);\n",
              "    }\n",
              "    30% {\n",
              "      border-color: transparent;\n",
              "      border-left-color: var(--fill-color);\n",
              "      border-top-color: var(--fill-color);\n",
              "      border-right-color: var(--fill-color);\n",
              "    }\n",
              "    40% {\n",
              "      border-color: transparent;\n",
              "      border-right-color: var(--fill-color);\n",
              "      border-top-color: var(--fill-color);\n",
              "    }\n",
              "    60% {\n",
              "      border-color: transparent;\n",
              "      border-right-color: var(--fill-color);\n",
              "    }\n",
              "    80% {\n",
              "      border-color: transparent;\n",
              "      border-right-color: var(--fill-color);\n",
              "      border-bottom-color: var(--fill-color);\n",
              "    }\n",
              "    90% {\n",
              "      border-color: transparent;\n",
              "      border-bottom-color: var(--fill-color);\n",
              "    }\n",
              "  }\n",
              "</style>\n",
              "\n",
              "  <script>\n",
              "    async function quickchart(key) {\n",
              "      const quickchartButtonEl =\n",
              "        document.querySelector('#' + key + ' button');\n",
              "      quickchartButtonEl.disabled = true;  // To prevent multiple clicks.\n",
              "      quickchartButtonEl.classList.add('colab-df-spinner');\n",
              "      try {\n",
              "        const charts = await google.colab.kernel.invokeFunction(\n",
              "            'suggestCharts', [key], {});\n",
              "      } catch (error) {\n",
              "        console.error('Error during call to suggestCharts:', error);\n",
              "      }\n",
              "      quickchartButtonEl.classList.remove('colab-df-spinner');\n",
              "      quickchartButtonEl.classList.add('colab-df-quickchart-complete');\n",
              "    }\n",
              "    (() => {\n",
              "      let quickchartButtonEl =\n",
              "        document.querySelector('#df-888b2071-a991-471b-8e2c-d033333af9c6 button');\n",
              "      quickchartButtonEl.style.display =\n",
              "        google.colab.kernel.accessAllowed ? 'block' : 'none';\n",
              "    })();\n",
              "  </script>\n",
              "</div>\n",
              "\n",
              "    </div>\n",
              "  </div>\n"
            ]
          },
          "metadata": {},
          "execution_count": 6
        }
      ]
    },
    {
      "cell_type": "code",
      "source": [
        "#renaming Quantity_kg to Weight\n",
        "trade_2023.rename(columns={'Quantity_kg':'Weight'},inplace=True)\n",
        "trade_2023.head(1)"
      ],
      "metadata": {
        "colab": {
          "base_uri": "https://localhost:8080/",
          "height": 81
        },
        "id": "ZR4TLn95lZyB",
        "outputId": "98085379-f470-42cd-fafd-9080ed453ff7"
      },
      "execution_count": 7,
      "outputs": [
        {
          "output_type": "execute_result",
          "data": {
            "text/plain": [
              "          Code    Type  Quantity    Weight     Cost    Month  Year Country  \\\n",
              "0  70051030000  Import  22466.59 222546.67 33782.52  January  2023    Iran   \n",
              "\n",
              "   Category Name  \n",
              "0      7005  NaN  "
            ],
            "text/html": [
              "\n",
              "  <div id=\"df-dfdb519f-b26a-4b06-9156-af2210e5b5ad\" class=\"colab-df-container\">\n",
              "    <div>\n",
              "<style scoped>\n",
              "    .dataframe tbody tr th:only-of-type {\n",
              "        vertical-align: middle;\n",
              "    }\n",
              "\n",
              "    .dataframe tbody tr th {\n",
              "        vertical-align: top;\n",
              "    }\n",
              "\n",
              "    .dataframe thead th {\n",
              "        text-align: right;\n",
              "    }\n",
              "</style>\n",
              "<table border=\"1\" class=\"dataframe\">\n",
              "  <thead>\n",
              "    <tr style=\"text-align: right;\">\n",
              "      <th></th>\n",
              "      <th>Code</th>\n",
              "      <th>Type</th>\n",
              "      <th>Quantity</th>\n",
              "      <th>Weight</th>\n",
              "      <th>Cost</th>\n",
              "      <th>Month</th>\n",
              "      <th>Year</th>\n",
              "      <th>Country</th>\n",
              "      <th>Category</th>\n",
              "      <th>Name</th>\n",
              "    </tr>\n",
              "  </thead>\n",
              "  <tbody>\n",
              "    <tr>\n",
              "      <th>0</th>\n",
              "      <td>70051030000</td>\n",
              "      <td>Import</td>\n",
              "      <td>22466.59</td>\n",
              "      <td>222546.67</td>\n",
              "      <td>33782.52</td>\n",
              "      <td>January</td>\n",
              "      <td>2023</td>\n",
              "      <td>Iran</td>\n",
              "      <td>7005</td>\n",
              "      <td>NaN</td>\n",
              "    </tr>\n",
              "  </tbody>\n",
              "</table>\n",
              "</div>\n",
              "    <div class=\"colab-df-buttons\">\n",
              "\n",
              "  <div class=\"colab-df-container\">\n",
              "    <button class=\"colab-df-convert\" onclick=\"convertToInteractive('df-dfdb519f-b26a-4b06-9156-af2210e5b5ad')\"\n",
              "            title=\"Convert this dataframe to an interactive table.\"\n",
              "            style=\"display:none;\">\n",
              "\n",
              "  <svg xmlns=\"http://www.w3.org/2000/svg\" height=\"24px\" viewBox=\"0 -960 960 960\">\n",
              "    <path d=\"M120-120v-720h720v720H120Zm60-500h600v-160H180v160Zm220 220h160v-160H400v160Zm0 220h160v-160H400v160ZM180-400h160v-160H180v160Zm440 0h160v-160H620v160ZM180-180h160v-160H180v160Zm440 0h160v-160H620v160Z\"/>\n",
              "  </svg>\n",
              "    </button>\n",
              "\n",
              "  <style>\n",
              "    .colab-df-container {\n",
              "      display:flex;\n",
              "      gap: 12px;\n",
              "    }\n",
              "\n",
              "    .colab-df-convert {\n",
              "      background-color: #E8F0FE;\n",
              "      border: none;\n",
              "      border-radius: 50%;\n",
              "      cursor: pointer;\n",
              "      display: none;\n",
              "      fill: #1967D2;\n",
              "      height: 32px;\n",
              "      padding: 0 0 0 0;\n",
              "      width: 32px;\n",
              "    }\n",
              "\n",
              "    .colab-df-convert:hover {\n",
              "      background-color: #E2EBFA;\n",
              "      box-shadow: 0px 1px 2px rgba(60, 64, 67, 0.3), 0px 1px 3px 1px rgba(60, 64, 67, 0.15);\n",
              "      fill: #174EA6;\n",
              "    }\n",
              "\n",
              "    .colab-df-buttons div {\n",
              "      margin-bottom: 4px;\n",
              "    }\n",
              "\n",
              "    [theme=dark] .colab-df-convert {\n",
              "      background-color: #3B4455;\n",
              "      fill: #D2E3FC;\n",
              "    }\n",
              "\n",
              "    [theme=dark] .colab-df-convert:hover {\n",
              "      background-color: #434B5C;\n",
              "      box-shadow: 0px 1px 3px 1px rgba(0, 0, 0, 0.15);\n",
              "      filter: drop-shadow(0px 1px 2px rgba(0, 0, 0, 0.3));\n",
              "      fill: #FFFFFF;\n",
              "    }\n",
              "  </style>\n",
              "\n",
              "    <script>\n",
              "      const buttonEl =\n",
              "        document.querySelector('#df-dfdb519f-b26a-4b06-9156-af2210e5b5ad button.colab-df-convert');\n",
              "      buttonEl.style.display =\n",
              "        google.colab.kernel.accessAllowed ? 'block' : 'none';\n",
              "\n",
              "      async function convertToInteractive(key) {\n",
              "        const element = document.querySelector('#df-dfdb519f-b26a-4b06-9156-af2210e5b5ad');\n",
              "        const dataTable =\n",
              "          await google.colab.kernel.invokeFunction('convertToInteractive',\n",
              "                                                    [key], {});\n",
              "        if (!dataTable) return;\n",
              "\n",
              "        const docLinkHtml = 'Like what you see? Visit the ' +\n",
              "          '<a target=\"_blank\" href=https://colab.research.google.com/notebooks/data_table.ipynb>data table notebook</a>'\n",
              "          + ' to learn more about interactive tables.';\n",
              "        element.innerHTML = '';\n",
              "        dataTable['output_type'] = 'display_data';\n",
              "        await google.colab.output.renderOutput(dataTable, element);\n",
              "        const docLink = document.createElement('div');\n",
              "        docLink.innerHTML = docLinkHtml;\n",
              "        element.appendChild(docLink);\n",
              "      }\n",
              "    </script>\n",
              "  </div>\n",
              "\n",
              "\n",
              "    </div>\n",
              "  </div>\n"
            ]
          },
          "metadata": {},
          "execution_count": 7
        }
      ]
    },
    {
      "cell_type": "code",
      "source": [
        "trade_2023.drop(trade_2023[(trade_2023['Weight']<=0)|(trade_2023['Cost']<=0)|(trade_2023['Quantity']<=0)].index,axis=0,inplace=True)"
      ],
      "metadata": {
        "id": "2--n9OQDk-Og"
      },
      "execution_count": 8,
      "outputs": []
    },
    {
      "cell_type": "code",
      "source": [
        "trade_2023.info()"
      ],
      "metadata": {
        "colab": {
          "base_uri": "https://localhost:8080/"
        },
        "id": "BEGEpHlG61_6",
        "outputId": "c27b8f4b-b455-42eb-a820-c04e46a73c78"
      },
      "execution_count": 9,
      "outputs": [
        {
          "output_type": "stream",
          "name": "stdout",
          "text": [
            "<class 'pandas.core.frame.DataFrame'>\n",
            "Int64Index: 405621 entries, 0 to 405755\n",
            "Data columns (total 10 columns):\n",
            " #   Column    Non-Null Count   Dtype  \n",
            "---  ------    --------------   -----  \n",
            " 0   Code      405621 non-null  int64  \n",
            " 1   Type      405621 non-null  object \n",
            " 2   Quantity  405621 non-null  float64\n",
            " 3   Weight    405621 non-null  float64\n",
            " 4   Cost      405621 non-null  float64\n",
            " 5   Month     405621 non-null  object \n",
            " 6   Year      405621 non-null  int64  \n",
            " 7   Country   405621 non-null  object \n",
            " 8   Category  405621 non-null  int64  \n",
            " 9   Name      75361 non-null   object \n",
            "dtypes: float64(3), int64(3), object(4)\n",
            "memory usage: 34.0+ MB\n"
          ]
        }
      ]
    },
    {
      "cell_type": "code",
      "source": [
        "trade_2023.isnull().sum()"
      ],
      "metadata": {
        "colab": {
          "base_uri": "https://localhost:8080/"
        },
        "id": "5-i4NDiZ0XE3",
        "outputId": "c96d1bb6-a7c6-4915-a64b-911b32aafeab"
      },
      "execution_count": 10,
      "outputs": [
        {
          "output_type": "execute_result",
          "data": {
            "text/plain": [
              "Code             0\n",
              "Type             0\n",
              "Quantity         0\n",
              "Weight           0\n",
              "Cost             0\n",
              "Month            0\n",
              "Year             0\n",
              "Country          0\n",
              "Category         0\n",
              "Name        330260\n",
              "dtype: int64"
            ]
          },
          "metadata": {},
          "execution_count": 10
        }
      ]
    },
    {
      "cell_type": "code",
      "source": [
        "#belowe 2 code concludes that there are no Category which have both Nan value and something\n",
        "print(trade_2023.drop_duplicates(subset=['Category','Name']).shape[0],\n",
        "trade_2023.Category.value_counts().shape[0])"
      ],
      "metadata": {
        "colab": {
          "base_uri": "https://localhost:8080/"
        },
        "id": "NgIEvAa6157D",
        "outputId": "987d8097-1866-4600-e8fd-198eadfd6749"
      },
      "execution_count": 11,
      "outputs": [
        {
          "output_type": "stream",
          "name": "stdout",
          "text": [
            "1147 1147\n"
          ]
        }
      ]
    },
    {
      "cell_type": "code",
      "source": [
        "#trade_2023.Name.fillna('Not Identified',inplace=True)\n",
        "trade_2023.Name.value_counts()"
      ],
      "metadata": {
        "colab": {
          "base_uri": "https://localhost:8080/"
        },
        "id": "jn1rLP3u4lsw",
        "outputId": "92d896fa-054e-479c-d0d0-5b84df611257"
      },
      "execution_count": 12,
      "outputs": [
        {
          "output_type": "execute_result",
          "data": {
            "text/plain": [
              "Parts and accessories of the motor vehicles                                            7654\n",
              "Wine                                                                                   5538\n",
              "furniture and parts                                                                    5036\n",
              "Lamps and lighting fittings including searchlights and spotlights and parts thereof    3340\n",
              "Bread, pastry, cakes, biscuits and other bakers' wares                                 2936\n",
              "                                                                                       ... \n",
              "Iron and non-alloy steel in ingots or other primary forms                                28\n",
              "Copper ores and concentrates                                                             26\n",
              "Other floating structures (rafts, tanks, coffer-dams, etc.)                              22\n",
              "Fats and oils and their fractions, of fish or marine mammals                             22\n",
              "Precious-metal ores and concentrates                                                     14\n",
              "Name: Name, Length: 77, dtype: int64"
            ]
          },
          "metadata": {},
          "execution_count": 12
        }
      ]
    },
    {
      "cell_type": "code",
      "source": [
        "impt= trade_2023.loc[trade_2023['Type']=='Import','Cost'].sum()\n",
        "expt= trade_2023.loc[trade_2023['Type']=='Export','Cost'].sum()\n",
        "\n",
        "expt-impt\n",
        "#this shows that Georgia is heavily depended on other countries and does not have stable economy"
      ],
      "metadata": {
        "colab": {
          "base_uri": "https://localhost:8080/"
        },
        "id": "Z3hVrMzP5Eka",
        "outputId": "21426a3e-7fb3-441e-8a64-b8cfbb098093"
      },
      "execution_count": 13,
      "outputs": [
        {
          "output_type": "execute_result",
          "data": {
            "text/plain": [
              "-7238883916.660412"
            ]
          },
          "metadata": {},
          "execution_count": 13
        }
      ]
    },
    {
      "cell_type": "code",
      "source": [
        "import matplotlib.pyplot as plt\n",
        "plt.style.use('dark_background')\n",
        "import matplotlib\n",
        "fig,ax= plt.subplots()\n",
        "\n",
        "x = [taip for taip, df in trade_2023.groupby(['Type'])]\n",
        "\n",
        "ax.bar(x,trade_2023.groupby('Type')['Cost'].sum(),color=['green','red'])\n",
        "ax.get_yaxis().set_major_formatter(\n",
        "    matplotlib.ticker.FuncFormatter(lambda x,p: format(int(x)//1000000000, ',')))\n",
        "\n",
        "for i, j in zip(x,trade_2023.groupby('Type')['Cost'].sum()):\n",
        "    ax.text(i,j, str(int(j)), ha='center', va='bottom')\n",
        "ax.set_ylabel('Cost In Billions')\n",
        "plt.title(\"Import Vs Export\")\n",
        "\n",
        "plt.show()"
      ],
      "metadata": {
        "colab": {
          "base_uri": "https://localhost:8080/",
          "height": 508
        },
        "id": "pr_0w_sD_kU0",
        "outputId": "3fde5a6c-5e4a-4133-9d56-3dbcc1d997fb"
      },
      "execution_count": 48,
      "outputs": [
        {
          "output_type": "stream",
          "name": "stderr",
          "text": [
            "<ipython-input-48-f06cdef412d1>:6: FutureWarning: In a future version of pandas, a length 1 tuple will be returned when iterating over a groupby with a grouper equal to a list of length 1. Don't supply a list with a single grouper to avoid this warning.\n",
            "  x = [taip for taip, df in trade_2023.groupby(['Type'])]\n"
          ]
        },
        {
          "output_type": "display_data",
          "data": {
            "text/plain": [
              "<Figure size 640x480 with 1 Axes>"
            ],
            "image/png": "[encoded data removed]"
          },
          "metadata": {}
        }
      ]
    },
    {
      "cell_type": "code",
      "source": [
        "gruped=trade_2023.groupby('Name')['Name','Cost'].sum().sort_values('Cost').tail(5).sort_values('Cost',ascending=False)\n"
      ],
      "metadata": {
        "colab": {
          "base_uri": "https://localhost:8080/"
        },
        "id": "p6v1oCoMubT2",
        "outputId": "bb86282f-3369-49b8-ae62-5d2dabcb7e5e"
      },
      "execution_count": 46,
      "outputs": [
        {
          "output_type": "stream",
          "name": "stderr",
          "text": [
            "<ipython-input-46-9b6245045ba0>:1: FutureWarning: Indexing with multiple keys (implicitly converted to a tuple of keys) will be deprecated, use a list instead.\n",
            "  gruped=trade_2023.groupby('Name')['Name','Cost'].sum().sort_values('Cost').tail(5).sort_values('Cost',ascending=False)\n",
            "<ipython-input-46-9b6245045ba0>:1: FutureWarning: The default value of numeric_only in DataFrameGroupBy.sum is deprecated. In a future version, numeric_only will default to False. Either specify numeric_only or select only columns which should be valid for the function.\n",
            "  gruped=trade_2023.groupby('Name')['Name','Cost'].sum().sort_values('Cost').tail(5).sort_values('Cost',ascending=False)\n"
          ]
        }
      ]
    },
    {
      "cell_type": "code",
      "source": [
        "#generate colors\n",
        "def base_color(a,b,c,len):\n",
        "  colors=[]\n",
        "  for i in range(len):\n",
        "    colors.append((a/255,b/255,c/255))\n",
        "    if a-40>0:\n",
        "      a=a-40\n",
        "    else:\n",
        "      a\n",
        "    if b-40>0:\n",
        "      b=b-40\n",
        "    else:\n",
        "      b\n",
        "    if c-40>0:\n",
        "      c=c-40\n",
        "    else:\n",
        "      c\n",
        "  return colors\n",
        "\n",
        "colors=base_color(204,0,102,5)"
      ],
      "metadata": {
        "id": "9k4FA2kKEUWh"
      },
      "execution_count": 53,
      "outputs": []
    },
    {
      "cell_type": "code",
      "source": [
        "colors"
      ],
      "metadata": {
        "colab": {
          "base_uri": "https://localhost:8080/"
        },
        "id": "GEVxflCLFp45",
        "outputId": "49ac8d0e-132e-4b1e-d12b-fa14a77ad5f3"
      },
      "execution_count": 54,
      "outputs": [
        {
          "output_type": "execute_result",
          "data": {
            "text/plain": [
              "[(0.8, 0.0, 0.4),\n",
              " (0.6431372549019608, 0.0, 0.24313725490196078),\n",
              " (0.48627450980392156, 0.0, 0.08627450980392157),\n",
              " (0.32941176470588235, 0.0, 0.08627450980392157),\n",
              " (0.17254901960784313, 0.0, 0.08627450980392157)]"
            ]
          },
          "metadata": {},
          "execution_count": 54
        }
      ]
    },
    {
      "cell_type": "code",
      "source": [
        "fig,ax= plt.subplots()\n",
        "\n",
        "\n",
        "\n",
        "'''Name = trade_2023.groupby('Name')['Cost'].sum()\n",
        "Name.sort_values(ascending=False).head().sort_values().plot.barh(ax=ax)\n",
        "ax.get_xaxis().set_major_formatter(\n",
        "    matplotlib.ticker.FuncFormatter(lambda x,p: format(int(x)//1000000, ',')))\n",
        "'''\n",
        "bars= ax.barh(gruped.index.to_list()[::-1],gruped.Cost.to_list()[::-1],color=colors)\n",
        "\n",
        "ax.bar_label(bars, fmt='%.2d')\n",
        "ax.get_xaxis().set_major_formatter(\n",
        "    matplotlib.ticker.FuncFormatter(lambda x,p: format(int(x)//1000000, ',')))\n",
        "ax.set_ylabel('Product Names')\n",
        "plt.title('Top 5 Product that were Traded')\n",
        "plt.show()"
      ],
      "metadata": {
        "colab": {
          "base_uri": "https://localhost:8080/",
          "height": 452
        },
        "id": "lWp4vyAb6mp2",
        "outputId": "0310fed9-22a8-43c0-a2ba-4036a3f2ce42"
      },
      "execution_count": 55,
      "outputs": [
        {
          "output_type": "display_data",
          "data": {
            "text/plain": [
              "<Figure size 640x480 with 1 Axes>"
            ],
            "image/png": "[encoded data removed]"
          },
          "metadata": {}
        }
      ]
    },
    {
      "cell_type": "code",
      "source": [
        "trade_2023.Month.value_counts()"
      ],
      "metadata": {
        "colab": {
          "base_uri": "https://localhost:8080/"
        },
        "id": "fZwnnQOhj2od",
        "outputId": "e31e2b73-17c8-4f1c-e6b6-e46f6a19c19b"
      },
      "execution_count": 20,
      "outputs": [
        {
          "output_type": "execute_result",
          "data": {
            "text/plain": [
              "October      39546\n",
              "August       39347\n",
              "November     38859\n",
              "June         38809\n",
              "September    38206\n",
              "March        37969\n",
              "May          37610\n",
              "April        36991\n",
              "July         36877\n",
              "February     31919\n",
              "January      29488\n",
              "Name: Month, dtype: int64"
            ]
          },
          "metadata": {},
          "execution_count": 20
        }
      ]
    },
    {
      "cell_type": "code",
      "source": [
        "grouped=trade_2023.groupby(['Month','Type'])['Cost'].sum()\n",
        "for n,i in enumerate(grouped.items()):\n",
        "  if i[0][1]=='Export':\n",
        "    i=list(i)\n",
        "    i[1]=-i[1]\n",
        "    grouped[n]=i[1]\n",
        "s =grouped.groupby('Month').sum()\n",
        "s.index= pd.to_datetime(s.index+'-2023')\n",
        "s=s.sort_index()\n",
        "s.index= s.index.month_name()\n"
      ],
      "metadata": {
        "id": "81mye8da7_lj"
      },
      "execution_count": 57,
      "outputs": []
    },
    {
      "cell_type": "code",
      "source": [
        "x = [month for month, b in s.items()]\n"
      ],
      "metadata": {
        "id": "SDjtAWNVelci"
      },
      "execution_count": 58,
      "outputs": []
    },
    {
      "cell_type": "code",
      "source": [
        "import matplotlib\n",
        "fig,ax=plt.subplots()\n",
        "\n",
        "ax.plot(x,s)\n",
        "ax.get_yaxis().set_major_formatter(\n",
        "    matplotlib.ticker.FuncFormatter(lambda x,p: format(int(x)//1000000, ',')))\n",
        "plt.xticks(x, rotation=45, size=16)\n",
        "plt.ylabel('Cost in Millions')\n",
        "for a, b in zip(x, s):\n",
        "    plt.text(a, b, f'{str(b)[:3]}', ha='right', va='bottom')\n",
        "plt.title('Export-Import by Months')\n",
        "plt.show()"
      ],
      "metadata": {
        "colab": {
          "base_uri": "https://localhost:8080/",
          "height": 539
        },
        "id": "uhIE17SifBkn",
        "outputId": "f5bc9fef-9b12-4b82-924b-cd1bc6b9c1cf"
      },
      "execution_count": 59,
      "outputs": [
        {
          "output_type": "display_data",
          "data": {
            "text/plain": [
              "<Figure size 640x480 with 1 Axes>"
            ],
            "image/png": "[encoded data removed]"
          },
          "metadata": {}
        }
      ]
    },
    {
      "cell_type": "code",
      "source": [
        "#top 3 countries on which georgia's is depended the most?\n",
        "trade_2023[trade_2023['Type']=='Import']\\\n",
        ".groupby('Country')['Cost'].sum()\\\n",
        ".sort_values(ascending=False).\\\n",
        "head(3).\\\n",
        "plot.pie( autopct='%1.1f%%',colors=['red','pink','blue'])\n",
        "plt.title('Top 3 countires Gerogia is depended on')"
      ],
      "metadata": {
        "id": "z2X2q183w8Qd",
        "colab": {
          "base_uri": "https://localhost:8080/",
          "height": 446
        },
        "outputId": "35c63c5b-e41c-4073-891d-aff539a1f6e0"
      },
      "execution_count": 60,
      "outputs": [
        {
          "output_type": "execute_result",
          "data": {
            "text/plain": [
              "Text(0.5, 1.0, 'Top 3 countires Gerogia is depended on')"
            ]
          },
          "metadata": {},
          "execution_count": 60
        },
        {
          "output_type": "display_data",
          "data": {
            "text/plain": [
              "<Figure size 640x480 with 1 Axes>"
            ],
            "image/png": "[encoded data removed]"
          },
          "metadata": {}
        }
      ]
    },
    {
      "cell_type": "code",
      "source": [
        "\n",
        "fig, ax = plt.subplots()\n",
        "\n",
        "trade_2023[(trade_2023['Name']=='Wine')& (trade_2023['Type']=='Export')]\\\n",
        ".groupby('Country')[['Weight','Quantity']].sum()\\\n",
        ".sort_values(by='Weight',ascending=False).head().sort_values(by='Weight').plot.barh(ax=ax)\n",
        "\n",
        "ax.get_xaxis().set_major_formatter(\n",
        "    matplotlib.ticker.FuncFormatter(lambda x,p: format(int(x)//1000000, ',')))\n",
        "\n",
        "ax.set_xlabel('In Millions')\n",
        "plt.title('Most Exchanges By Countries')\n",
        "plt.show()"
      ],
      "metadata": {
        "colab": {
          "base_uri": "https://localhost:8080/",
          "height": 472
        },
        "id": "Xx-h_lvAvTkN",
        "outputId": "a216a6c8-9b9b-4dfa-e32f-576c68ec047c"
      },
      "execution_count": 61,
      "outputs": [
        {
          "output_type": "display_data",
          "data": {
            "text/plain": [
              "<Figure size 640x480 with 1 Axes>"
            ],
            "image/png": "[encoded data removed]"
          },
          "metadata": {}
        }
      ]
    },
    {
      "cell_type": "code",
      "source": [
        "base_color(51,153,255,5)"
      ],
      "metadata": {
        "colab": {
          "base_uri": "https://localhost:8080/"
        },
        "id": "-VztJU9yJbKi",
        "outputId": "68f6ff5b-7abf-4bfb-e064-74921577beae"
      },
      "execution_count": 26,
      "outputs": [
        {
          "output_type": "execute_result",
          "data": {
            "text/plain": [
              "[(0.2, 0.6, 1.0),\n",
              " (0.043137254901960784, 0.44313725490196076, 0.8431372549019608),\n",
              " (0.043137254901960784, 0.28627450980392155, 0.6862745098039216),\n",
              " (0.043137254901960784, 0.12941176470588237, 0.5294117647058824),\n",
              " (0.043137254901960784, 0.12941176470588237, 0.37254901960784315)]"
            ]
          },
          "metadata": {},
          "execution_count": 26
        }
      ]
    },
    {
      "cell_type": "code",
      "source": [
        "#which are 5 product that georgia needs the most?\n",
        "fig,ax=plt.subplots()\n",
        "\n",
        "\n",
        "trade_2023[trade_2023['Type']=='Import'].groupby('Name')['Quantity'].sum().sort_values().tail(5).plot.barh(color=base_color(51,153,255,5))\n",
        "ax.get_xaxis().set_major_formatter(\n",
        "    matplotlib.ticker.FuncFormatter(lambda x,p: format(int(x)//1000000, ',')))\n",
        "plt.title('5 product that georgia needs the most')\n",
        "plt.show()"
      ],
      "metadata": {
        "id": "9pdDGw0pA92t",
        "colab": {
          "base_uri": "https://localhost:8080/",
          "height": 452
        },
        "outputId": "c5956141-bccf-4752-a72b-f864d0320ab0"
      },
      "execution_count": 63,
      "outputs": [
        {
          "output_type": "display_data",
          "data": {
            "text/plain": [
              "<Figure size 640x480 with 1 Axes>"
            ],
            "image/png": "[encoded data removed]"
          },
          "metadata": {}
        }
      ]
    },
    {
      "cell_type": "code",
      "source": [
        "#what is most exported and imported proudut Based on Months\n",
        "\n",
        "df =  trade_2023.groupby(['Type','Month','Name'],as_index=False)[['Type','Month','Quantity','Name']].sum()\n",
        "\n",
        "x = df['Month'].unique()\n",
        "y = df['Type'].unique()\n",
        "top= []\n",
        "for taip in y:\n",
        "  for month in x:\n",
        "    id = df[(df['Month']==month) & (df['Type']==taip)]['Quantity'].idxmax()\n",
        "\n",
        "    top.append(df.loc[id])\n",
        "\n",
        "top= pd.DataFrame(top)"
      ],
      "metadata": {
        "id": "ki9mtTu0JymA",
        "colab": {
          "base_uri": "https://localhost:8080/"
        },
        "outputId": "6df10f76-de0d-436a-93c2-7480a8efc67d"
      },
      "execution_count": 28,
      "outputs": [
        {
          "output_type": "stream",
          "name": "stderr",
          "text": [
            "<ipython-input-28-cbb57b309bb1>:3: FutureWarning: The default value of numeric_only in DataFrameGroupBy.sum is deprecated. In a future version, numeric_only will default to False. Either specify numeric_only or select only columns which should be valid for the function.\n",
            "  df =  trade_2023.groupby(['Type','Month','Name'],as_index=False)[['Type','Month','Quantity','Name']].sum()\n"
          ]
        }
      ]
    },
    {
      "cell_type": "code",
      "source": [
        "top['MonthNo']=pd.to_datetime(top['Month']+'-2023')"
      ],
      "metadata": {
        "id": "7y9GkiBJfyTp"
      },
      "execution_count": 29,
      "outputs": []
    },
    {
      "cell_type": "code",
      "source": [
        "top= top.sort_values(by='MonthNo').copy()"
      ],
      "metadata": {
        "id": "vLFkPYmHhu8G"
      },
      "execution_count": 30,
      "outputs": []
    },
    {
      "cell_type": "code",
      "source": [
        "labels=top[top['Type']=='Export']['Name']\n",
        "x= range(len(labels))\n",
        "print(type(labels.tolist()))\n",
        "x"
      ],
      "metadata": {
        "id": "mPMgQtzg4bRo",
        "colab": {
          "base_uri": "https://localhost:8080/"
        },
        "outputId": "4305426f-751e-403a-98d4-93ec3030f6d4"
      },
      "execution_count": 66,
      "outputs": [
        {
          "output_type": "stream",
          "name": "stdout",
          "text": [
            "<class 'list'>\n"
          ]
        },
        {
          "output_type": "execute_result",
          "data": {
            "text/plain": [
              "range(0, 11)"
            ]
          },
          "metadata": {},
          "execution_count": 66
        }
      ]
    },
    {
      "cell_type": "code",
      "source": [
        "top[top['Type']=='Export']['Month'].to_list()"
      ],
      "metadata": {
        "colab": {
          "base_uri": "https://localhost:8080/"
        },
        "id": "fmEmaT_kKgtY",
        "outputId": "a631942e-cf24-4656-dcbf-8ec31ea689d9"
      },
      "execution_count": 67,
      "outputs": [
        {
          "output_type": "execute_result",
          "data": {
            "text/plain": [
              "['January',\n",
              " 'February',\n",
              " 'March',\n",
              " 'April',\n",
              " 'May',\n",
              " 'June',\n",
              " 'July',\n",
              " 'August',\n",
              " 'September',\n",
              " 'October',\n",
              " 'November']"
            ]
          },
          "metadata": {},
          "execution_count": 67
        }
      ]
    },
    {
      "cell_type": "code",
      "source": [
        "import numpy as np\n",
        "array = labels.unique()\n",
        "for i in range(len(labels)-len(labels.unique())):\n",
        "  array = np.append(array,'')\n",
        "\n",
        "colors_uniq=['red','green','yellow','blue','white']\n",
        "\n",
        "unique = labels.unique()\n",
        "\n",
        "combine={}\n",
        "for i in range(len(colors_uniq)):\n",
        "  combine[f'{unique[i]}']=colors_uniq[i]\n",
        "combine\n",
        "\n",
        "colors = []\n",
        "for i in labels:\n",
        "  colors.append(combine.get(i))\n",
        "colors\n",
        "print(combine)"
      ],
      "metadata": {
        "colab": {
          "base_uri": "https://localhost:8080/"
        },
        "id": "9Pek4xx8M8le",
        "outputId": "8cdd00d6-ed4b-40dd-da4d-768f0cb40ad9"
      },
      "execution_count": 68,
      "outputs": [
        {
          "output_type": "stream",
          "name": "stdout",
          "text": [
            "{'Ferro-alloys': 'red', 'Copper ores and concentrates': 'green', 'Mineral Waters': 'yellow', 'Waters (natural or artificial)': 'blue', 'Mineral or chemical fertilisers, nitrogenous': 'white'}\n"
          ]
        }
      ]
    },
    {
      "cell_type": "code",
      "source": [
        "top[top['Type']=='Export']"
      ],
      "metadata": {
        "colab": {
          "base_uri": "https://localhost:8080/",
          "height": 394
        },
        "id": "HBa93UfTXN2u",
        "outputId": "3698202a-9027-4046-f1e3-b21a64b95cde"
      },
      "execution_count": 69,
      "outputs": [
        {
          "output_type": "execute_result",
          "data": {
            "text/plain": [
              "       Type      Month                                          Name  \\\n",
              "212  Export    January                                  Ferro-alloys   \n",
              "143  Export   February                  Copper ores and concentrates   \n",
              "400  Export      March                  Copper ores and concentrates   \n",
              "13   Export      April                  Copper ores and concentrates   \n",
              "487  Export        May                                Mineral Waters   \n",
              "386  Export       June                Waters (natural or artificial)   \n",
              "274  Export       July                  Copper ores and concentrates   \n",
              "127  Export     August                Waters (natural or artificial)   \n",
              "705  Export  September                Waters (natural or artificial)   \n",
              "641  Export    October                Waters (natural or artificial)   \n",
              "552  Export   November  Mineral or chemical fertilisers, nitrogenous   \n",
              "\n",
              "       Quantity    MonthNo  \n",
              "212 41509048.00 2023-01-01  \n",
              "143 39240362.00 2023-02-01  \n",
              "400 29673133.00 2023-03-01  \n",
              "13  21760623.00 2023-04-01  \n",
              "487 32134852.50 2023-05-01  \n",
              "386 21702385.04 2023-06-01  \n",
              "274 21145624.00 2023-07-01  \n",
              "127 20737808.92 2023-08-01  \n",
              "705 27291736.48 2023-09-01  \n",
              "641 20306482.89 2023-10-01  \n",
              "552 12936646.60 2023-11-01  "
            ],
            "text/html": [
              "\n",
              "  <div id=\"df-b51095a5-6f77-46ad-83fc-5ed875beab39\" class=\"colab-df-container\">\n",
              "    <div>\n",
              "<style scoped>\n",
              "    .dataframe tbody tr th:only-of-type {\n",
              "        vertical-align: middle;\n",
              "    }\n",
              "\n",
              "    .dataframe tbody tr th {\n",
              "        vertical-align: top;\n",
              "    }\n",
              "\n",
              "    .dataframe thead th {\n",
              "        text-align: right;\n",
              "    }\n",
              "</style>\n",
              "<table border=\"1\" class=\"dataframe\">\n",
              "  <thead>\n",
              "    <tr style=\"text-align: right;\">\n",
              "      <th></th>\n",
              "      <th>Type</th>\n",
              "      <th>Month</th>\n",
              "      <th>Name</th>\n",
              "      <th>Quantity</th>\n",
              "      <th>MonthNo</th>\n",
              "    </tr>\n",
              "  </thead>\n",
              "  <tbody>\n",
              "    <tr>\n",
              "      <th>212</th>\n",
              "      <td>Export</td>\n",
              "      <td>January</td>\n",
              "      <td>Ferro-alloys</td>\n",
              "      <td>41509048.00</td>\n",
              "      <td>2023-01-01</td>\n",
              "    </tr>\n",
              "    <tr>\n",
              "      <th>143</th>\n",
              "      <td>Export</td>\n",
              "      <td>February</td>\n",
              "      <td>Copper ores and concentrates</td>\n",
              "      <td>39240362.00</td>\n",
              "      <td>2023-02-01</td>\n",
              "    </tr>\n",
              "    <tr>\n",
              "      <th>400</th>\n",
              "      <td>Export</td>\n",
              "      <td>March</td>\n",
              "      <td>Copper ores and concentrates</td>\n",
              "      <td>29673133.00</td>\n",
              "      <td>2023-03-01</td>\n",
              "    </tr>\n",
              "    <tr>\n",
              "      <th>13</th>\n",
              "      <td>Export</td>\n",
              "      <td>April</td>\n",
              "      <td>Copper ores and concentrates</td>\n",
              "      <td>21760623.00</td>\n",
              "      <td>2023-04-01</td>\n",
              "    </tr>\n",
              "    <tr>\n",
              "      <th>487</th>\n",
              "      <td>Export</td>\n",
              "      <td>May</td>\n",
              "      <td>Mineral Waters</td>\n",
              "      <td>32134852.50</td>\n",
              "      <td>2023-05-01</td>\n",
              "    </tr>\n",
              "    <tr>\n",
              "      <th>386</th>\n",
              "      <td>Export</td>\n",
              "      <td>June</td>\n",
              "      <td>Waters (natural or artificial)</td>\n",
              "      <td>21702385.04</td>\n",
              "      <td>2023-06-01</td>\n",
              "    </tr>\n",
              "    <tr>\n",
              "      <th>274</th>\n",
              "      <td>Export</td>\n",
              "      <td>July</td>\n",
              "      <td>Copper ores and concentrates</td>\n",
              "      <td>21145624.00</td>\n",
              "      <td>2023-07-01</td>\n",
              "    </tr>\n",
              "    <tr>\n",
              "      <th>127</th>\n",
              "      <td>Export</td>\n",
              "      <td>August</td>\n",
              "      <td>Waters (natural or artificial)</td>\n",
              "      <td>20737808.92</td>\n",
              "      <td>2023-08-01</td>\n",
              "    </tr>\n",
              "    <tr>\n",
              "      <th>705</th>\n",
              "      <td>Export</td>\n",
              "      <td>September</td>\n",
              "      <td>Waters (natural or artificial)</td>\n",
              "      <td>27291736.48</td>\n",
              "      <td>2023-09-01</td>\n",
              "    </tr>\n",
              "    <tr>\n",
              "      <th>641</th>\n",
              "      <td>Export</td>\n",
              "      <td>October</td>\n",
              "      <td>Waters (natural or artificial)</td>\n",
              "      <td>20306482.89</td>\n",
              "      <td>2023-10-01</td>\n",
              "    </tr>\n",
              "    <tr>\n",
              "      <th>552</th>\n",
              "      <td>Export</td>\n",
              "      <td>November</td>\n",
              "      <td>Mineral or chemical fertilisers, nitrogenous</td>\n",
              "      <td>12936646.60</td>\n",
              "      <td>2023-11-01</td>\n",
              "    </tr>\n",
              "  </tbody>\n",
              "</table>\n",
              "</div>\n",
              "    <div class=\"colab-df-buttons\">\n",
              "\n",
              "  <div class=\"colab-df-container\">\n",
              "    <button class=\"colab-df-convert\" onclick=\"convertToInteractive('df-b51095a5-6f77-46ad-83fc-5ed875beab39')\"\n",
              "            title=\"Convert this dataframe to an interactive table.\"\n",
              "            style=\"display:none;\">\n",
              "\n",
              "  <svg xmlns=\"http://www.w3.org/2000/svg\" height=\"24px\" viewBox=\"0 -960 960 960\">\n",
              "    <path d=\"M120-120v-720h720v720H120Zm60-500h600v-160H180v160Zm220 220h160v-160H400v160Zm0 220h160v-160H400v160ZM180-400h160v-160H180v160Zm440 0h160v-160H620v160ZM180-180h160v-160H180v160Zm440 0h160v-160H620v160Z\"/>\n",
              "  </svg>\n",
              "    </button>\n",
              "\n",
              "  <style>\n",
              "    .colab-df-container {\n",
              "      display:flex;\n",
              "      gap: 12px;\n",
              "    }\n",
              "\n",
              "    .colab-df-convert {\n",
              "      background-color: #E8F0FE;\n",
              "      border: none;\n",
              "      border-radius: 50%;\n",
              "      cursor: pointer;\n",
              "      display: none;\n",
              "      fill: #1967D2;\n",
              "      height: 32px;\n",
              "      padding: 0 0 0 0;\n",
              "      width: 32px;\n",
              "    }\n",
              "\n",
              "    .colab-df-convert:hover {\n",
              "      background-color: #E2EBFA;\n",
              "      box-shadow: 0px 1px 2px rgba(60, 64, 67, 0.3), 0px 1px 3px 1px rgba(60, 64, 67, 0.15);\n",
              "      fill: #174EA6;\n",
              "    }\n",
              "\n",
              "    .colab-df-buttons div {\n",
              "      margin-bottom: 4px;\n",
              "    }\n",
              "\n",
              "    [theme=dark] .colab-df-convert {\n",
              "      background-color: #3B4455;\n",
              "      fill: #D2E3FC;\n",
              "    }\n",
              "\n",
              "    [theme=dark] .colab-df-convert:hover {\n",
              "      background-color: #434B5C;\n",
              "      box-shadow: 0px 1px 3px 1px rgba(0, 0, 0, 0.15);\n",
              "      filter: drop-shadow(0px 1px 2px rgba(0, 0, 0, 0.3));\n",
              "      fill: #FFFFFF;\n",
              "    }\n",
              "  </style>\n",
              "\n",
              "    <script>\n",
              "      const buttonEl =\n",
              "        document.querySelector('#df-b51095a5-6f77-46ad-83fc-5ed875beab39 button.colab-df-convert');\n",
              "      buttonEl.style.display =\n",
              "        google.colab.kernel.accessAllowed ? 'block' : 'none';\n",
              "\n",
              "      async function convertToInteractive(key) {\n",
              "        const element = document.querySelector('#df-b51095a5-6f77-46ad-83fc-5ed875beab39');\n",
              "        const dataTable =\n",
              "          await google.colab.kernel.invokeFunction('convertToInteractive',\n",
              "                                                    [key], {});\n",
              "        if (!dataTable) return;\n",
              "\n",
              "        const docLinkHtml = 'Like what you see? Visit the ' +\n",
              "          '<a target=\"_blank\" href=https://colab.research.google.com/notebooks/data_table.ipynb>data table notebook</a>'\n",
              "          + ' to learn more about interactive tables.';\n",
              "        element.innerHTML = '';\n",
              "        dataTable['output_type'] = 'display_data';\n",
              "        await google.colab.output.renderOutput(dataTable, element);\n",
              "        const docLink = document.createElement('div');\n",
              "        docLink.innerHTML = docLinkHtml;\n",
              "        element.appendChild(docLink);\n",
              "      }\n",
              "    </script>\n",
              "  </div>\n",
              "\n",
              "\n",
              "<div id=\"df-5cbd79af-0286-4181-9982-4b2f3650713d\">\n",
              "  <button class=\"colab-df-quickchart\" onclick=\"quickchart('df-5cbd79af-0286-4181-9982-4b2f3650713d')\"\n",
              "            title=\"Suggest charts\"\n",
              "            style=\"display:none;\">\n",
              "\n",
              "<svg xmlns=\"http://www.w3.org/2000/svg\" height=\"24px\"viewBox=\"0 0 24 24\"\n",
              "     width=\"24px\">\n",
              "    <g>\n",
              "        <path d=\"M19 3H5c-1.1 0-2 .9-2 2v14c0 1.1.9 2 2 2h14c1.1 0 2-.9 2-2V5c0-1.1-.9-2-2-2zM9 17H7v-7h2v7zm4 0h-2V7h2v10zm4 0h-2v-4h2v4z\"/>\n",
              "    </g>\n",
              "</svg>\n",
              "  </button>\n",
              "\n",
              "<style>\n",
              "  .colab-df-quickchart {\n",
              "      --bg-color: #E8F0FE;\n",
              "      --fill-color: #1967D2;\n",
              "      --hover-bg-color: #E2EBFA;\n",
              "      --hover-fill-color: #174EA6;\n",
              "      --disabled-fill-color: #AAA;\n",
              "      --disabled-bg-color: #DDD;\n",
              "  }\n",
              "\n",
              "  [theme=dark] .colab-df-quickchart {\n",
              "      --bg-color: #3B4455;\n",
              "      --fill-color: #D2E3FC;\n",
              "      --hover-bg-color: #434B5C;\n",
              "      --hover-fill-color: #FFFFFF;\n",
              "      --disabled-bg-color: #3B4455;\n",
              "      --disabled-fill-color: #666;\n",
              "  }\n",
              "\n",
              "  .colab-df-quickchart {\n",
              "    background-color: var(--bg-color);\n",
              "    border: none;\n",
              "    border-radius: 50%;\n",
              "    cursor: pointer;\n",
              "    display: none;\n",
              "    fill: var(--fill-color);\n",
              "    height: 32px;\n",
              "    padding: 0;\n",
              "    width: 32px;\n",
              "  }\n",
              "\n",
              "  .colab-df-quickchart:hover {\n",
              "    background-color: var(--hover-bg-color);\n",
              "    box-shadow: 0 1px 2px rgba(60, 64, 67, 0.3), 0 1px 3px 1px rgba(60, 64, 67, 0.15);\n",
              "    fill: var(--button-hover-fill-color);\n",
              "  }\n",
              "\n",
              "  .colab-df-quickchart-complete:disabled,\n",
              "  .colab-df-quickchart-complete:disabled:hover {\n",
              "    background-color: var(--disabled-bg-color);\n",
              "    fill: var(--disabled-fill-color);\n",
              "    box-shadow: none;\n",
              "  }\n",
              "\n",
              "  .colab-df-spinner {\n",
              "    border: 2px solid var(--fill-color);\n",
              "    border-color: transparent;\n",
              "    border-bottom-color: var(--fill-color);\n",
              "    animation:\n",
              "      spin 1s steps(1) infinite;\n",
              "  }\n",
              "\n",
              "  @keyframes spin {\n",
              "    0% {\n",
              "      border-color: transparent;\n",
              "      border-bottom-color: var(--fill-color);\n",
              "      border-left-color: var(--fill-color);\n",
              "    }\n",
              "    20% {\n",
              "      border-color: transparent;\n",
              "      border-left-color: var(--fill-color);\n",
              "      border-top-color: var(--fill-color);\n",
              "    }\n",
              "    30% {\n",
              "      border-color: transparent;\n",
              "      border-left-color: var(--fill-color);\n",
              "      border-top-color: var(--fill-color);\n",
              "      border-right-color: var(--fill-color);\n",
              "    }\n",
              "    40% {\n",
              "      border-color: transparent;\n",
              "      border-right-color: var(--fill-color);\n",
              "      border-top-color: var(--fill-color);\n",
              "    }\n",
              "    60% {\n",
              "      border-color: transparent;\n",
              "      border-right-color: var(--fill-color);\n",
              "    }\n",
              "    80% {\n",
              "      border-color: transparent;\n",
              "      border-right-color: var(--fill-color);\n",
              "      border-bottom-color: var(--fill-color);\n",
              "    }\n",
              "    90% {\n",
              "      border-color: transparent;\n",
              "      border-bottom-color: var(--fill-color);\n",
              "    }\n",
              "  }\n",
              "</style>\n",
              "\n",
              "  <script>\n",
              "    async function quickchart(key) {\n",
              "      const quickchartButtonEl =\n",
              "        document.querySelector('#' + key + ' button');\n",
              "      quickchartButtonEl.disabled = true;  // To prevent multiple clicks.\n",
              "      quickchartButtonEl.classList.add('colab-df-spinner');\n",
              "      try {\n",
              "        const charts = await google.colab.kernel.invokeFunction(\n",
              "            'suggestCharts', [key], {});\n",
              "      } catch (error) {\n",
              "        console.error('Error during call to suggestCharts:', error);\n",
              "      }\n",
              "      quickchartButtonEl.classList.remove('colab-df-spinner');\n",
              "      quickchartButtonEl.classList.add('colab-df-quickchart-complete');\n",
              "    }\n",
              "    (() => {\n",
              "      let quickchartButtonEl =\n",
              "        document.querySelector('#df-5cbd79af-0286-4181-9982-4b2f3650713d button');\n",
              "      quickchartButtonEl.style.display =\n",
              "        google.colab.kernel.accessAllowed ? 'block' : 'none';\n",
              "    })();\n",
              "  </script>\n",
              "</div>\n",
              "\n",
              "    </div>\n",
              "  </div>\n"
            ]
          },
          "metadata": {},
          "execution_count": 69
        }
      ]
    },
    {
      "cell_type": "code",
      "source": [
        "fig,ax=plt.subplots()\n",
        "\n",
        "ax.bar(data=top[top['Type']=='Export'],x='Month',height='Quantity',label=array,color=colors)\n",
        "'''\n",
        "for i in range(len(x)):\n",
        "    ax.bar(x[i], top[top['Type']=='Export']['Quantity'].tolist()[i], label=labels.tolist()[i])\n",
        "'''\n",
        "plt.legend(loc='upper left', bbox_to_anchor=(1,1))\n",
        "leg = ax.get_legend()\n",
        "leg.legendHandles[2].set_color('yellow')\n",
        "leg.legendHandles[3].set_color('blue')\n",
        "leg.legendHandles[4].set_color('white')\n",
        "plt.xticks(x,rotation=45)\n",
        "ax.get_yaxis().set_major_formatter(\n",
        "    matplotlib.ticker.FuncFormatter(lambda x,p: format(int(x)//1000000, ',')))\n",
        "ax.set_ylabel('In Millions')\n",
        "plt.title('Most exported Products By months')\n",
        "plt.show()"
      ],
      "metadata": {
        "colab": {
          "base_uri": "https://localhost:8080/",
          "height": 631
        },
        "id": "PHbqA2XuAHt1",
        "outputId": "814b820d-38b7-47ab-9891-bf0b8b4218b4"
      },
      "execution_count": 70,
      "outputs": [
        {
          "output_type": "stream",
          "name": "stderr",
          "text": [
            "<ipython-input-70-12256b0bee4c>:10: MatplotlibDeprecationWarning: The legendHandles attribute was deprecated in Matplotlib 3.7 and will be removed two minor releases later. Use legend_handles instead.\n",
            "  leg.legendHandles[2].set_color('yellow')\n",
            "<ipython-input-70-12256b0bee4c>:11: MatplotlibDeprecationWarning: The legendHandles attribute was deprecated in Matplotlib 3.7 and will be removed two minor releases later. Use legend_handles instead.\n",
            "  leg.legendHandles[3].set_color('blue')\n",
            "<ipython-input-70-12256b0bee4c>:12: MatplotlibDeprecationWarning: The legendHandles attribute was deprecated in Matplotlib 3.7 and will be removed two minor releases later. Use legend_handles instead.\n",
            "  leg.legendHandles[4].set_color('white')\n"
          ]
        },
        {
          "output_type": "display_data",
          "data": {
            "text/plain": [
              "<Figure size 640x480 with 1 Axes>"
            ],
            "image/png": "[encoded data removed]"
          },
          "metadata": {}
        }
      ]
    },
    {
      "cell_type": "code",
      "source": [
        "labels=top[top['Type']=='Import']['Name']\n",
        "x= range(len(labels))\n",
        "print(type(labels.tolist()))"
      ],
      "metadata": {
        "colab": {
          "base_uri": "https://localhost:8080/"
        },
        "id": "8FajxStiNEcx",
        "outputId": "95fc4e38-ca36-456e-8ae3-86a39abc61d6"
      },
      "execution_count": 71,
      "outputs": [
        {
          "output_type": "stream",
          "name": "stdout",
          "text": [
            "<class 'list'>\n"
          ]
        }
      ]
    },
    {
      "cell_type": "code",
      "source": [
        "import numpy as np\n",
        "array = labels.unique()\n",
        "for i in range(len(labels)-len(labels.unique())):\n",
        "  array = np.append(array,'')\n",
        "\n",
        "colors_uniq=['purple','orange']\n",
        "\n",
        "unique = labels.unique()\n",
        "print(len(unique))\n",
        "combine={}\n",
        "for i in range(len(colors_uniq)):\n",
        "  combine[f'{unique[i]}']=colors_uniq[i]\n",
        "combine\n",
        "\n",
        "colors = []\n",
        "for i in labels:\n",
        "  colors.append(combine.get(i))\n",
        "colors\n",
        "print(combine)"
      ],
      "metadata": {
        "colab": {
          "base_uri": "https://localhost:8080/"
        },
        "id": "wRtwNUDGo2TT",
        "outputId": "1f9a9526-d667-4c7c-b915-8301ffeef187"
      },
      "execution_count": 72,
      "outputs": [
        {
          "output_type": "stream",
          "name": "stdout",
          "text": [
            "2\n",
            "{'Petroleum oils': 'purple', 'Portland cement, aluminous cement': 'orange'}\n"
          ]
        }
      ]
    },
    {
      "cell_type": "code",
      "source": [
        "fig,ax=plt.subplots()\n",
        "\n",
        "ax.bar(data=top[top['Type']=='Import'],x='Month',height='Quantity',color=colors,label=array)\n",
        "\n",
        "\n",
        "plt.legend(loc='upper left', bbox_to_anchor=(1,1))\n",
        "plt.xticks(x,rotation='vertical')\n",
        "ax.get_yaxis().set_major_formatter(\n",
        "    matplotlib.ticker.FuncFormatter(lambda x,p: format(int(x)//1000000, ',')))\n",
        "ax.set_ylabel('In Millions')\n",
        "plt.title('Most imported products By Months')\n",
        "plt.show()"
      ],
      "metadata": {
        "colab": {
          "base_uri": "https://localhost:8080/",
          "height": 515
        },
        "id": "TwISMcc0UK09",
        "outputId": "5e03fa2d-7d21-4f74-864a-6285cedecc52"
      },
      "execution_count": 74,
      "outputs": [
        {
          "output_type": "display_data",
          "data": {
            "text/plain": [
              "<Figure size 640x480 with 1 Axes>"
            ],
            "image/png": "[encoded data removed]"
          },
          "metadata": {}
        }
      ]
    },
    {
      "cell_type": "code",
      "source": [],
      "metadata": {
        "id": "lNoIfPh2pZKJ"
      },
      "execution_count": null,
      "outputs": []
    }
  ]
}